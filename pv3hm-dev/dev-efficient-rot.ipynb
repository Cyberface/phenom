{
 "cells": [
  {
   "cell_type": "markdown",
   "metadata": {
    "toc": "true"
   },
   "source": [
    "# Table of Contents\n",
    " <p>"
   ]
  },
  {
   "cell_type": "code",
   "execution_count": 1,
   "metadata": {
    "ExecuteTime": {
     "end_time": "2019-04-20T14:41:52.029065Z",
     "start_time": "2019-04-20T14:41:51.634235Z"
    }
   },
   "outputs": [],
   "source": [
    "%matplotlib inline\n",
    "import matplotlib\n",
    "import matplotlib.pyplot as plt\n",
    "\n",
    "import lal\n",
    "import lalsimulation as lalsim\n",
    "import numpy as np"
   ]
  },
  {
   "cell_type": "code",
   "execution_count": 2,
   "metadata": {
    "ExecuteTime": {
     "end_time": "2019-04-20T14:41:52.041625Z",
     "start_time": "2019-04-20T14:41:52.033794Z"
    }
   },
   "outputs": [],
   "source": [
    "def convert_from_cartesian_to_polar(x, y, z):\n",
    "    \"\"\"\n",
    "    function to convert from 3d cartesian components to polar angles and vector magnitude.\n",
    "    https://en.wikipedia.org/wiki/Spherical_coordinate_system#Cartesian_coordinates\n",
    "    \"\"\"\n",
    "    mag = np.sqrt(x * x + y * y + z * z)\n",
    "    if (np.abs(mag - 0.) < 1e-9):\n",
    "        polar = 0.\n",
    "        azimuthal = 0.\n",
    "    else:\n",
    "        polar = np.arccos(z / mag)\n",
    "        azimuthal = np.arctan2(y, x)\n",
    "    return mag, polar, azimuthal"
   ]
  },
  {
   "cell_type": "code",
   "execution_count": 3,
   "metadata": {
    "ExecuteTime": {
     "end_time": "2019-04-20T14:41:52.064908Z",
     "start_time": "2019-04-20T14:41:52.046406Z"
    },
    "code_folding": []
   },
   "outputs": [],
   "source": [
    "def same_as_init_PhenomPv3HM_Storage(\n",
    "    m1_SI,\n",
    "    m2_SI,\n",
    "    f_ref,\n",
    "    phiRef,\n",
    "    inclination,\n",
    "    chi1x,\n",
    "    chi1y,\n",
    "    chi1z,\n",
    "    chi2x,\n",
    "    chi2y,\n",
    "    chi2z\n",
    "):\n",
    "    assert m1_SI >= m2_SI, \"m1 needs to be the primary\"\n",
    "\n",
    "    #rotate from LAL to PhenomP frame\n",
    "    chi1_l, chi2_l, chip, thetaJN, alpha0, phi_aligned, zeta_polariz = \\\n",
    "        lalsim.SimIMRPhenomPCalculateModelParametersFromSourceFrame(\n",
    "            m1_SI, m2_SI, f_ref, phiRef, inclination,\n",
    "            chi1x, chi1y, chi1z,\n",
    "            chi2x, chi2y, chi2z,\n",
    "            lalsim.IMRPhenomPv3_V)\n",
    "\n",
    "\n",
    "    # chi1, theta1, phi1 = convert_from_cartesian_to_polar(chi1x, chi1y, chi1z)\n",
    "    # costheta1 = np.cos(theta1)\n",
    "    # chi2, theta2, phi2 = convert_from_cartesian_to_polar(chi2x, chi2y, chi2z)\n",
    "    # costheta2 = np.cos(theta2)\n",
    "\n",
    "    # f_ref_Orb_Hz = 0.5 * f_ref\n",
    "\n",
    "    # orb_ref_freq = lal.CreateREAL8Sequence(1)\n",
    "    # orb_ref_freq.data[0] = f_ref_Orb_Hz\n",
    "\n",
    "    # ref_phiz_of_f = lal.CreateREAL8Sequence(1)  # phiz or alpha\n",
    "    # ref_zeta_of_f = lal.CreateREAL8Sequence(1)  # zeta or epsilon\n",
    "    # ref_costhetaL_of_f = lal.CreateREAL8Sequence(1)  # costhetaL or beta\n",
    "\n",
    "    # ExpansionOrder = 5\n",
    "    # costhetaL = 1.\n",
    "    # phiL = 0.\n",
    "\n",
    "    # lalsim.ComputeAngles3PN(ref_phiz_of_f, ref_zeta_of_f, ref_costhetaL_of_f,\n",
    "    #                         orb_ref_freq,\n",
    "    #                         m1_SI, m2_SI,\n",
    "    #                         costhetaL, phiL,\n",
    "    #                         costheta1, phi1, chi1,\n",
    "    #                         costheta2, phi2, chi2,\n",
    "    #                         f_ref, ExpansionOrder)\n",
    "    # alphaRef = ref_phiz_of_f.data[0]\n",
    "    # epsilonRef = ref_zeta_of_f.data[0]\n",
    "    # betaRef = np.arccos(ref_costhetaL_of_f.data[0])\n",
    "\n",
    "    # return alphaRef, epsilonRef, thetaJN, alpha0, phi_aligned, zeta_polariz\n",
    "    return 0,0, thetaJN, alpha0, phi_aligned, zeta_polariz"
   ]
  },
  {
   "cell_type": "code",
   "execution_count": 4,
   "metadata": {
    "ExecuteTime": {
     "end_time": "2019-04-20T14:41:52.226719Z",
     "start_time": "2019-04-20T14:41:52.069925Z"
    }
   },
   "outputs": [],
   "source": [
    "def run_type_2(m1,m2,chi1x,chi1y,chi1z,chi2x,chi2y,chi2z,phiref,f_ref,df,flow,fhigh,inclination,distance, modes):\n",
    "\n",
    "    x = np.arange(flow, fhigh, df)\n",
    "    freqs = lal.CreateREAL8Sequence(len(x))\n",
    "    freqs.data = x\n",
    "\n",
    "    f_ref = flow\n",
    "\n",
    "    m1_SI=m1 * lal.MSUN_SI\n",
    "    m2_SI=m2 * lal.MSUN_SI\n",
    "    deltaF=df\n",
    "\n",
    "    amp0 = lalsim.SimPhenomUtilsFDamp0((m1_SI + m2_SI) / lal.MSUN_SI, distance)\n",
    "\n",
    "\n",
    "    params = lal.CreateDict()\n",
    "    ma=lalsim.SimInspiralCreateModeArray()\n",
    "\n",
    "    for l,m in modes:\n",
    "        lalsim.SimInspiralModeArrayActivateMode(ma, l, m)\n",
    "\n",
    "    lalsim.SimInspiralWaveformParamsInsertModeArray(params, ma)\n",
    "\n",
    "    phm_params = dict(\n",
    "        freqs=freqs,\n",
    "        m1_SI=m1_SI,\n",
    "        m2_SI=m2_SI,\n",
    "        chi1x=chi1x,\n",
    "        chi1y=chi1y,\n",
    "        chi1z=chi1z,\n",
    "        chi2x=chi2x,\n",
    "        chi2y=chi2y,\n",
    "        chi2z=chi2z,\n",
    "        phiRef=phiref,\n",
    "        deltaF=deltaF,\n",
    "        f_ref=f_ref,\n",
    "        extraParams=params\n",
    "    )\n",
    "\n",
    "    alphaRef, epsilonRef, thetaJN, alpha0, phi_aligned, zeta_polariz = \\\n",
    "        same_as_init_PhenomPv3HM_Storage(\n",
    "            m1_SI,\n",
    "            m2_SI,\n",
    "            f_ref,\n",
    "            phiref,\n",
    "            inclination,\n",
    "            chi1x,\n",
    "            chi1y,\n",
    "            chi1z,\n",
    "            chi2x,\n",
    "            chi2y,\n",
    "            chi2z\n",
    "        )\n",
    "\n",
    "    hlms = lalsim.SimIMRPhenomHMGethlmModes(**phm_params)\n",
    "\n",
    "    # h22 = lalsim.SphHarmFrequencySeriesGetMode(hlms, 2, 2)\n",
    "    # f22 = np.arange( h22.data.length ) * h22.deltaF\n",
    "\n",
    "    ModeArray = lalsim.SimInspiralWaveformParamsLookupModeArray(params)\n",
    "\n",
    "\n",
    "    Mtot_Msun = (m1_SI + m2_SI) / lal.MSUN_SI\n",
    "    Msec = Mtot_Msun * lal.MTSUN_SI\n",
    "    twopi_Msec = lal.TWOPI * Msec\n",
    "\n",
    "    # compute precession angles over all frequencies\n",
    "    # only need to do this once.\n",
    "\n",
    "    phiz_of_f = lal.CreateREAL8Sequence(len(freqs.data))  # phiz or alpha\n",
    "    zeta_of_f = lal.CreateREAL8Sequence(len(freqs.data))  # zeta or epsilon\n",
    "    costhetaL_of_f = lal.CreateREAL8Sequence(len(freqs.data))  # costhetaL or beta\n",
    "\n",
    "    ExpansionOrder = 5\n",
    "    costhetaL = 1.\n",
    "    phiL = 0.\n",
    "\n",
    "    chi1, theta1, phi1 = convert_from_cartesian_to_polar(chi1x, chi1y, chi1z)\n",
    "    costheta1 = np.cos(theta1)\n",
    "    chi2, theta2, phi2 = convert_from_cartesian_to_polar(chi2x, chi2y, chi2z)\n",
    "    costheta2 = np.cos(theta2)\n",
    "\n",
    "    hplus = np.zeros(len(freqs.data), dtype=np.complex64)\n",
    "    hcross = np.zeros(len(freqs.data), dtype=np.complex64)\n",
    "\n",
    "    for ell in range(2,5):\n",
    "        # loop over ell = [2,3,4]\n",
    "        for mprime in range(ell+1):\n",
    "            # mprime is the index for the modes in the non-precessing model\n",
    "            ms = lalsim.SimInspiralModeArrayIsModeActive(ModeArray, ell, mprime)\n",
    "            if ms != 1:\n",
    "                continue\n",
    "            print(\"ell = {}, mprime = {}\".format(ell, mprime))\n",
    "            print(\"mode state = {}\".format(ms))\n",
    "            # get non-precessing mode\n",
    "            hlm_np = lalsim.SphHarmFrequencySeriesGetMode(hlms, ell, mprime)\n",
    "            # flm_array = np.arange( hlm_np.data.length ) * hlm_np.deltaF\n",
    "\n",
    "            # now we loop over all m-modes in the current ell-mode\n",
    "            # and \"do the twist\"\n",
    "\n",
    "            orb_freqs = lal.CreateREAL8Sequence(len(freqs.data))\n",
    "            orb_freqs.data = freqs.data / mprime\n",
    "\n",
    "            lalsim.ComputeAngles3PN(phiz_of_f, zeta_of_f, costhetaL_of_f,\n",
    "                                    orb_freqs,\n",
    "                                    m1_SI, m2_SI,\n",
    "                                    costhetaL, phiL,\n",
    "                                    costheta1, phi1, chi1,\n",
    "                                    costheta2, phi2, chi2,\n",
    "                                    f_ref, ExpansionOrder)\n",
    "\n",
    "            for mm in range(-ell, ell+1):\n",
    "                print(\"-----> working mm = {}\".format(mm))\n",
    "\n",
    "                # get Ylms\n",
    "                Y = lal.SpinWeightedSphericalHarmonic(thetaJN, 0, -2, ell, mm)\n",
    "                # NOTE: we use phi=0 in Ylms so they are REAL numbers\n",
    "                # and the next line is pointless!\n",
    "                Yconj = np.conj(Y)\n",
    "\n",
    "                # loop over frequencies\n",
    "                # for i, fHz in enumerate(flm_array):\n",
    "                for i, fHz in enumerate(freqs.data):\n",
    "\n",
    "                    alpha = phiz_of_f.data[i] - alpha0\n",
    "                    epsilon = zeta_of_f.data[i]\n",
    "                    beta = np.arccos(costhetaL_of_f.data[i])\n",
    "\n",
    "                    w1 = np.exp(1.j * mm * alpha)\n",
    "                    w2 = lal.WignerdMatrix(ell, mprime, mm, -beta)\n",
    "                    w3 = np.exp(-mprime * 1.j * epsilon)\n",
    "                    WigD = w1 * w2 * w3\n",
    "\n",
    "                    w2m = lal.WignerdMatrix(ell, -mprime, mm, -beta)\n",
    "                    w4 = np.exp(-mprime * -1.j * epsilon)\n",
    "                    WigDmConj = np.conj(w1 * w2m * w4)\n",
    "\n",
    "                    hlm_np_i = hlm_np.data.data[i]\n",
    "\n",
    "                    Term1 = Y * WigD\n",
    "                    Term2 = (-1)**(ell)  * Yconj * WigDmConj\n",
    "\n",
    "                    yy = 0.5 * amp0 * hlm_np_i\n",
    "\n",
    "                    h1 = yy * (Term1 + Term2)\n",
    "                    h2 = -1.j * yy * (Term1 - Term2)\n",
    "\n",
    "                    hplus[i] += h1\n",
    "                    hcross[i] += h2\n",
    "\n",
    "    cos2zeta = np.cos(2. * zeta_polariz)\n",
    "    sin2zeta = np.sin(2. * zeta_polariz)\n",
    "\n",
    "    for i in range(len(hplus)):\n",
    "        PhPpolp = hplus[i]\n",
    "        PhPpolc = hcross[i]\n",
    "        hplus[i] = PhPpolp * cos2zeta + PhPpolc * sin2zeta\n",
    "        hcross[i] = PhPpolc * cos2zeta - PhPpolp * sin2zeta\n",
    "\n",
    "    return hplus, hcross, freqs.data"
   ]
  },
  {
   "cell_type": "code",
   "execution_count": 5,
   "metadata": {
    "ExecuteTime": {
     "end_time": "2019-04-20T14:41:52.416368Z",
     "start_time": "2019-04-20T14:41:52.232151Z"
    }
   },
   "outputs": [],
   "source": [
    "def run_type_3_pv3(m1,m2,chi1x,chi1y,chi1z,chi2x,chi2y,chi2z,phiref,f_ref,df,flow,fhigh,inclination,distance, modes):\n",
    "\n",
    "    print(\"hardcoding modes to 22 mode\")\n",
    "    modes=[(2,2)]\n",
    "\n",
    "    x = np.arange(flow, fhigh, df)\n",
    "    freqs = lal.CreateREAL8Sequence(len(x))\n",
    "    freqs.data = x\n",
    "\n",
    "    f_ref = flow\n",
    "\n",
    "    m1_SI=m1 * lal.MSUN_SI\n",
    "    m2_SI=m2 * lal.MSUN_SI\n",
    "    deltaF=df\n",
    "\n",
    "    amp0 = lalsim.SimPhenomUtilsFDamp0((m1_SI + m2_SI) / lal.MSUN_SI, distance)\n",
    "\n",
    "\n",
    "    params = lal.CreateDict()\n",
    "    ma=lalsim.SimInspiralCreateModeArray()\n",
    "    lalsim.SimInspiralModeArrayActivateMode(ma, 2, 2)\n",
    "    lalsim.SimInspiralWaveformParamsInsertModeArray(params, ma)\n",
    "\n",
    "    phm_params = dict(\n",
    "        freqs=freqs,\n",
    "        m1_SI=m1_SI,\n",
    "        m2_SI=m2_SI,\n",
    "        chi1x=chi1x,\n",
    "        chi1y=chi1y,\n",
    "        chi1z=chi1z,\n",
    "        chi2x=chi2x,\n",
    "        chi2y=chi2y,\n",
    "        chi2z=chi2z,\n",
    "        phiRef=phiref,\n",
    "        deltaF=deltaF,\n",
    "        f_ref=f_ref,\n",
    "        extraParams=params\n",
    "    )\n",
    "\n",
    "    alphaRef, epsilonRef, thetaJN, alpha0, phi_aligned, zeta_polariz = \\\n",
    "        same_as_init_PhenomPv3HM_Storage(\n",
    "            m1_SI,\n",
    "            m2_SI,\n",
    "            f_ref,\n",
    "            phiref,\n",
    "            inclination,\n",
    "            chi1x,\n",
    "            chi1y,\n",
    "            chi1z,\n",
    "            chi2x,\n",
    "            chi2y,\n",
    "            chi2z\n",
    "        )\n",
    "\n",
    "    hlms = lalsim.SimIMRPhenomHMGethlmModes(**phm_params)\n",
    "\n",
    "    # h22 = lalsim.SphHarmFrequencySeriesGetMode(hlms, 2, 2)\n",
    "    # f22 = np.arange( h22.data.length ) * h22.deltaF\n",
    "\n",
    "    ModeArray = lalsim.SimInspiralWaveformParamsLookupModeArray(params)\n",
    "\n",
    "\n",
    "    Mtot_Msun = (m1_SI + m2_SI) / lal.MSUN_SI\n",
    "    Msec = Mtot_Msun * lal.MTSUN_SI\n",
    "    twopi_Msec = lal.TWOPI * Msec\n",
    "\n",
    "    # compute precession angles over all frequencies\n",
    "    # only need to do this once.\n",
    "\n",
    "    phiz_of_f = lal.CreateREAL8Sequence(len(freqs.data))  # phiz or alpha\n",
    "    zeta_of_f = lal.CreateREAL8Sequence(len(freqs.data))  # zeta or epsilon\n",
    "    costhetaL_of_f = lal.CreateREAL8Sequence(len(freqs.data))  # costhetaL or beta\n",
    "\n",
    "    ExpansionOrder = 5\n",
    "    costhetaL = 1.\n",
    "    phiL = 0.\n",
    "\n",
    "    chi1, theta1, phi1 = convert_from_cartesian_to_polar(chi1x, chi1y, chi1z)\n",
    "    costheta1 = np.cos(theta1)\n",
    "    chi2, theta2, phi2 = convert_from_cartesian_to_polar(chi2x, chi2y, chi2z)\n",
    "    costheta2 = np.cos(theta2)\n",
    "\n",
    "    hplus = np.zeros(len(freqs.data), dtype=np.complex64)\n",
    "    hcross = np.zeros(len(freqs.data), dtype=np.complex64)\n",
    "\n",
    "    ell=2\n",
    "    mprime = 2 # mprime is the index for the modes in the non-precessing model\n",
    "    h22_np = lalsim.SphHarmFrequencySeriesGetMode(hlms, ell, mprime)\n",
    "\n",
    "    # now we loop over all m-modes in the current ell-mode\n",
    "    # and \"do the twist\"\n",
    "\n",
    "    orb_freqs = lal.CreateREAL8Sequence(len(freqs.data))\n",
    "    orb_freqs.data = freqs.data / mprime\n",
    "\n",
    "    lalsim.ComputeAngles3PN(phiz_of_f, zeta_of_f, costhetaL_of_f,\n",
    "                            orb_freqs,\n",
    "                            m1_SI, m2_SI,\n",
    "                            costhetaL, phiL,\n",
    "                            costheta1, phi1, chi1,\n",
    "                            costheta2, phi2, chi2,\n",
    "                            f_ref, ExpansionOrder)\n",
    "\n",
    "    Y2m2 = lal.SpinWeightedSphericalHarmonic(thetaJN, 0., -2, 2, -2)\n",
    "    Y2m1 = lal.SpinWeightedSphericalHarmonic(thetaJN, 0., -2, 2, -1)\n",
    "    Y20  = lal.SpinWeightedSphericalHarmonic(thetaJN, 0., -2, 2,  0)\n",
    "    Y21  = lal.SpinWeightedSphericalHarmonic(thetaJN, 0., -2, 2,  1)\n",
    "    Y22  = lal.SpinWeightedSphericalHarmonic(thetaJN, 0., -2, 2,  2)\n",
    "\n",
    "    Y2mA = [Y2m2, Y2m1, Y20, Y21, Y22]\n",
    "\n",
    "    sqrt_6 = np.sqrt(6.)\n",
    "\n",
    "    for i, fHz in enumerate(freqs.data):\n",
    "\n",
    "        alpha = phiz_of_f.data[i] - alpha0\n",
    "        epsilon = zeta_of_f.data[i]\n",
    "        beta = np.arccos(costhetaL_of_f.data[i])\n",
    "\n",
    "        # REAL8 cBetah, sBetah; /* cos(beta/2), sin(beta/2) */\n",
    "        cBetah = np.cos(beta/2.0)\n",
    "        sBetah = np.sin(beta/2.0)\n",
    "\n",
    "        cBetah2 = cBetah*cBetah\n",
    "        cBetah3 = cBetah2*cBetah\n",
    "        cBetah4 = cBetah3*cBetah\n",
    "        sBetah2 = sBetah*sBetah\n",
    "        sBetah3 = sBetah2*sBetah\n",
    "        sBetah4 = sBetah3*sBetah\n",
    "\n",
    "        d2   = [sBetah4, 2*cBetah*sBetah3, sqrt_6*sBetah2*cBetah2, 2*cBetah3*sBetah, cBetah4]\n",
    "        #  /* Exploit symmetry d^2_{-2,-m} = (-1)^m d^2_{2,m} */\n",
    "        dm2  = [d2[4], -d2[3], d2[2], -d2[1], d2[0]]\n",
    "\n",
    "        hp_sum = 0\n",
    "        hc_sum = 0\n",
    "\n",
    "        # /* Sum up contributions to \\tilde h+ and \\tilde hx */\n",
    "        # /* Precompute powers of e^{i m alpha} */\n",
    "        cexp_i_alpha = np.cos(alpha) + 1.j*np.sin(alpha) #//cexp(+I*alpha)\n",
    "        cexp_2i_alpha = cexp_i_alpha*cexp_i_alpha\n",
    "        cexp_mi_alpha = 1.0/cexp_i_alpha\n",
    "        cexp_m2i_alpha = cexp_mi_alpha*cexp_mi_alpha\n",
    "        cexp_im_alpha = [cexp_m2i_alpha, cexp_mi_alpha, 1.0, cexp_i_alpha, cexp_2i_alpha]\n",
    "\n",
    "\n",
    "        for m in [-2, -1, 0, 1, 2]:\n",
    "            # /*  = cexp(-I*m*alpha) * dm2[m+2] *      Y2mA[m+2] */\n",
    "            # /*  = cexp(+I*m*alpha) * d2[m+2]  * conj(Y2mA[m+2]) */\n",
    "            T2m   = cexp_im_alpha[-m+2] * dm2[m+2] *      Y2mA[m+2]\n",
    "            Tm2m  = cexp_im_alpha[m+2]  * d2[m+2]  * np.conj(Y2mA[m+2])\n",
    "            hp_sum +=     T2m + Tm2m\n",
    "            hc_sum += +1.j*(T2m - Tm2m)\n",
    "\n",
    "        h22_np_i = h22_np.data.data[i]\n",
    "        #//cexp(-2*I*epsilon) * hP / 2.0\n",
    "        eps_phase_hP = (np.cos(2*epsilon) - 1.j*np.sin(2*epsilon)) *h22_np_i /2.0\n",
    "        hplus[i] = eps_phase_hP * hp_sum * amp0\n",
    "        hcross[i] = eps_phase_hP * hc_sum * amp0\n",
    "\n",
    "    cos2zeta = np.cos(2. * zeta_polariz)\n",
    "    sin2zeta = np.sin(2. * zeta_polariz)\n",
    "\n",
    "    for i in range(len(hplus)):\n",
    "        PhPpolp = hplus[i]\n",
    "        PhPpolc = hcross[i]\n",
    "        hplus[i] = PhPpolp * cos2zeta + PhPpolc * sin2zeta\n",
    "        hcross[i] = PhPpolc * cos2zeta - PhPpolp * sin2zeta\n",
    "\n",
    "    return hplus, hcross, freqs.data"
   ]
  },
  {
   "cell_type": "code",
   "execution_count": 728,
   "metadata": {
    "ExecuteTime": {
     "end_time": "2019-04-20T16:05:56.065104Z",
     "start_time": "2019-04-20T16:05:55.911711Z"
    }
   },
   "outputs": [],
   "source": [
    "def BOYLE_run_type_2(m1,m2,chi1x,chi1y,chi1z,chi2x,chi2y,chi2z,phiref,f_ref,df,flow,fhigh,inclination,distance, modes):\n",
    "    \"\"\"\n",
    "    trying to implement the efficient calculation as described\n",
    "    in arxiv:1409.4431\n",
    "    \"\"\"\n",
    "\n",
    "    x = np.arange(flow, fhigh, df)\n",
    "    freqs = lal.CreateREAL8Sequence(len(x))\n",
    "    freqs.data = x\n",
    "\n",
    "    f_ref = flow\n",
    "\n",
    "    m1_SI=m1 * lal.MSUN_SI\n",
    "    m2_SI=m2 * lal.MSUN_SI\n",
    "    deltaF=df\n",
    "\n",
    "    amp0 = lalsim.SimPhenomUtilsFDamp0((m1_SI + m2_SI) / lal.MSUN_SI, distance)\n",
    "\n",
    "\n",
    "    params = lal.CreateDict()\n",
    "    ma=lalsim.SimInspiralCreateModeArray()\n",
    "\n",
    "    for l,m in modes:\n",
    "        lalsim.SimInspiralModeArrayActivateMode(ma, l, m)\n",
    "\n",
    "    lalsim.SimInspiralWaveformParamsInsertModeArray(params, ma)\n",
    "\n",
    "    phm_params = dict(\n",
    "        freqs=freqs,\n",
    "        m1_SI=m1_SI,\n",
    "        m2_SI=m2_SI,\n",
    "        chi1x=chi1x,\n",
    "        chi1y=chi1y,\n",
    "        chi1z=chi1z,\n",
    "        chi2x=chi2x,\n",
    "        chi2y=chi2y,\n",
    "        chi2z=chi2z,\n",
    "        phiRef=phiref,\n",
    "        deltaF=deltaF,\n",
    "        f_ref=f_ref,\n",
    "        extraParams=params\n",
    "    )\n",
    "\n",
    "    alphaRef, epsilonRef, thetaJN, alpha0, phi_aligned, zeta_polariz = \\\n",
    "        same_as_init_PhenomPv3HM_Storage(\n",
    "            m1_SI,\n",
    "            m2_SI,\n",
    "            f_ref,\n",
    "            phiref,\n",
    "            inclination,\n",
    "            chi1x,\n",
    "            chi1y,\n",
    "            chi1z,\n",
    "            chi2x,\n",
    "            chi2y,\n",
    "            chi2z\n",
    "        )\n",
    "\n",
    "    hlms = lalsim.SimIMRPhenomHMGethlmModes(**phm_params)\n",
    "\n",
    "    # h22 = lalsim.SphHarmFrequencySeriesGetMode(hlms, 2, 2)\n",
    "    # f22 = np.arange( h22.data.length ) * h22.deltaF\n",
    "\n",
    "    ModeArray = lalsim.SimInspiralWaveformParamsLookupModeArray(params)\n",
    "\n",
    "\n",
    "    Mtot_Msun = (m1_SI + m2_SI) / lal.MSUN_SI\n",
    "    Msec = Mtot_Msun * lal.MTSUN_SI\n",
    "    twopi_Msec = lal.TWOPI * Msec\n",
    "\n",
    "    # compute precession angles over all frequencies\n",
    "    # only need to do this once.\n",
    "\n",
    "    phiz_of_f = lal.CreateREAL8Sequence(len(freqs.data))  # phiz or alpha\n",
    "    zeta_of_f = lal.CreateREAL8Sequence(len(freqs.data))  # zeta or epsilon\n",
    "    costhetaL_of_f = lal.CreateREAL8Sequence(len(freqs.data))  # costhetaL or beta\n",
    "\n",
    "    ExpansionOrder = 5\n",
    "    costhetaL = 1.\n",
    "    phiL = 0.\n",
    "\n",
    "    chi1, theta1, phi1 = convert_from_cartesian_to_polar(chi1x, chi1y, chi1z)\n",
    "    costheta1 = np.cos(theta1)\n",
    "    chi2, theta2, phi2 = convert_from_cartesian_to_polar(chi2x, chi2y, chi2z)\n",
    "    costheta2 = np.cos(theta2)\n",
    "\n",
    "    hplus = np.zeros(len(freqs.data), dtype=np.complex64)\n",
    "    hcross = np.zeros(len(freqs.data), dtype=np.complex64)\n",
    "\n",
    "    for ell in range(2,5):\n",
    "        # loop over ell = [2,3,4]\n",
    "        for mprime in range(ell+1):\n",
    "            # mprime is the index for the modes in the non-precessing model\n",
    "            ms = lalsim.SimInspiralModeArrayIsModeActive(ModeArray, ell, mprime)\n",
    "            if ms != 1:\n",
    "                continue\n",
    "            print(\"ell = {}, mprime = {}\".format(ell, mprime))\n",
    "            print(\"mode state = {}\".format(ms))\n",
    "            # get non-precessing mode\n",
    "            hlm_np = lalsim.SphHarmFrequencySeriesGetMode(hlms, ell, mprime)\n",
    "            # flm_array = np.arange( hlm_np.data.length ) * hlm_np.deltaF\n",
    "\n",
    "            # now we loop over all m-modes in the current ell-mode\n",
    "            # and \"do the twist\"\n",
    "\n",
    "            orb_freqs = lal.CreateREAL8Sequence(len(freqs.data))\n",
    "            orb_freqs.data = freqs.data / mprime\n",
    "\n",
    "            lalsim.ComputeAngles3PN(phiz_of_f, zeta_of_f, costhetaL_of_f,\n",
    "                                    orb_freqs,\n",
    "                                    m1_SI, m2_SI,\n",
    "                                    costhetaL, phiL,\n",
    "                                    costheta1, phi1, chi1,\n",
    "                                    costheta2, phi2, chi2,\n",
    "                                    f_ref, ExpansionOrder)\n",
    "\n",
    "            for i, fHz in enumerate(freqs.data):\n",
    "                alpha = phiz_of_f.data[i] - alpha0\n",
    "                epsilon = zeta_of_f.data[i]\n",
    "                beta = np.arccos(costhetaL_of_f.data[i])\n",
    "                \n",
    "                Ylm = lal.SpinWeightedSphericalHarmonic(thetaJN - beta, alpha, -2, ell, mprime)\n",
    "                YlmConj = np.conj(lal.SpinWeightedSphericalHarmonic(thetaJN - beta, alpha, -2, ell, -mprime))    \n",
    "                ep_exp = np.exp(-1.j * mprime * epsilon)\n",
    "\n",
    "# these need to be thetaJN - beta\n",
    "#                 The following lines work in the non-precessing case.\n",
    "# NOTE: in the 'ep_exp' you need 'mprime' not just '2' as in MB paper.\n",
    "# this also needs to be a minus sign\n",
    "#                 Ylm = lal.SpinWeightedSphericalHarmonic(thetaJN, 0, -2, ell, mprime)\n",
    "#                 YlmConj = np.conj(lal.SpinWeightedSphericalHarmonic(thetaJN, 0, -2, ell, -mprime))\n",
    "#                 ep_exp = np.exp(-1.j * mprime * 0.)\n",
    "\n",
    "                \n",
    "                minus1l = (-1)**(ell)\n",
    "                factorp = 0.5 * (Ylm + minus1l * YlmConj)\n",
    "                factorc = 1.j * 0.5 * (Ylm - minus1l * YlmConj)\n",
    "                \n",
    "                hlm_np_i = hlm_np.data.data[i]\n",
    "                pre = hlm_np_i * ep_exp * amp0\n",
    "                \n",
    "                h1 = pre * (factorp)\n",
    "                h2 = pre * (factorc)\n",
    "                \n",
    "                hplus[i] += h1\n",
    "                hcross[i] += h2\n",
    "\n",
    "    cos2zeta = np.cos(2. * zeta_polariz)\n",
    "    sin2zeta = np.sin(2. * zeta_polariz)\n",
    "\n",
    "    for i in range(len(hplus)):\n",
    "        PhPpolp = hplus[i]\n",
    "        PhPpolc = hcross[i]\n",
    "        hplus[i] = PhPpolp * cos2zeta + PhPpolc * sin2zeta\n",
    "        hcross[i] = PhPpolc * cos2zeta - PhPpolp * sin2zeta\n",
    "\n",
    "    return hplus, hcross, freqs.data"
   ]
  },
  {
   "cell_type": "code",
   "execution_count": 729,
   "metadata": {
    "ExecuteTime": {
     "end_time": "2019-04-20T16:05:56.425467Z",
     "start_time": "2019-04-20T16:05:56.419339Z"
    }
   },
   "outputs": [],
   "source": [
    "# modes=[(2,2),(3,2)]\n",
    "modes=[(2,2)]\n",
    "# modes=[(2,2),(2,1)]\n",
    "# modes=[(2,2),(4,4)]\n",
    "# modes=[(2,2)]\n",
    "# modes=[(2,2),(2,1),(3,3),(3,2),(4,4),(4,3)]\n",
    "\n",
    "default_pars = dict(\n",
    "    m1=20,m2=10,chi1x=0.3,chi1y=0,chi1z=0,chi2x=0,chi2y=0,chi2z=0,phiref=0,\n",
    "    f_ref=20,df=0.1,flow=20,fhigh=1024*1.6,inclination=np.pi/3.,\n",
    "    distance=1e6*lal.PC_SI, modes=modes)"
   ]
  },
  {
   "cell_type": "code",
   "execution_count": 730,
   "metadata": {
    "ExecuteTime": {
     "end_time": "2019-04-20T16:05:57.022270Z",
     "start_time": "2019-04-20T16:05:56.494327Z"
    }
   },
   "outputs": [
    {
     "name": "stdout",
     "output_type": "stream",
     "text": [
      "ell = 2, mprime = 2\n",
      "mode state = 1\n",
      "CPU times: user 510 ms, sys: 38.9 ms, total: 549 ms\n",
      "Wall time: 522 ms\n"
     ]
    }
   ],
   "source": [
    "%%time\n",
    "hpMB, hcMB, fMB = BOYLE_run_type_2(**default_pars)"
   ]
  },
  {
   "cell_type": "code",
   "execution_count": 731,
   "metadata": {
    "ExecuteTime": {
     "end_time": "2019-04-20T16:05:58.765617Z",
     "start_time": "2019-04-20T16:05:57.025637Z"
    }
   },
   "outputs": [
    {
     "name": "stdout",
     "output_type": "stream",
     "text": [
      "ell = 2, mprime = 2\n",
      "mode state = 1\n",
      "-----> working mm = -2\n",
      "-----> working mm = -1\n",
      "-----> working mm = 0\n",
      "-----> working mm = 1\n",
      "-----> working mm = 2\n",
      "CPU times: user 1.7 s, sys: 104 ms, total: 1.81 s\n",
      "Wall time: 1.73 s\n"
     ]
    }
   ],
   "source": [
    "%%time\n",
    "hp2, hc2, f2 = run_type_2(**default_pars)"
   ]
  },
  {
   "cell_type": "code",
   "execution_count": 732,
   "metadata": {
    "ExecuteTime": {
     "end_time": "2019-04-20T16:05:59.659460Z",
     "start_time": "2019-04-20T16:05:58.769531Z"
    }
   },
   "outputs": [
    {
     "name": "stdout",
     "output_type": "stream",
     "text": [
      "hardcoding modes to 22 mode\n",
      "CPU times: user 861 ms, sys: 78.4 ms, total: 939 ms\n",
      "Wall time: 885 ms\n"
     ]
    }
   ],
   "source": [
    "%%time\n",
    "hp3, hc3, f3 = run_type_3_pv3(**default_pars)"
   ]
  },
  {
   "cell_type": "code",
   "execution_count": 733,
   "metadata": {
    "ExecuteTime": {
     "end_time": "2019-04-20T16:05:59.673046Z",
     "start_time": "2019-04-20T16:05:59.663646Z"
    }
   },
   "outputs": [
    {
     "data": {
      "text/plain": [
       "0"
      ]
     },
     "execution_count": 733,
     "metadata": {},
     "output_type": "execute_result"
    }
   ],
   "source": [
    "params = lal.CreateDict()\n",
    "ma=lalsim.SimInspiralCreateModeArray()\n",
    "\n",
    "for l,m in modes:\n",
    "    lalsim.SimInspiralModeArrayActivateMode(ma, l, m)\n",
    "\n",
    "lalsim.SimInspiralWaveformParamsInsertModeArray(params, ma)"
   ]
  },
  {
   "cell_type": "code",
   "execution_count": 734,
   "metadata": {
    "ExecuteTime": {
     "end_time": "2019-04-20T16:05:59.748140Z",
     "start_time": "2019-04-20T16:05:59.677365Z"
    }
   },
   "outputs": [],
   "source": [
    "# PhenomPv3HM\n",
    "hplal,hclal=lalsim.SimInspiralChooseFDWaveform(\n",
    "    default_pars['m1']*lal.MSUN_SI,\n",
    "    default_pars['m2']*lal.MSUN_SI,\n",
    "    default_pars['chi1x'],default_pars['chi1y'],default_pars['chi1z'],\n",
    "    default_pars['chi2x'],default_pars['chi2y'],default_pars['chi2z'],\n",
    "    default_pars['distance'],\n",
    "    default_pars['inclination'],\n",
    "    default_pars['phiref'],\n",
    "    0,\n",
    "    0,\n",
    "    0,\n",
    "    default_pars['df'],\n",
    "    default_pars['flow'],\n",
    "    default_pars['fhigh'],\n",
    "    default_pars['f_ref'],\n",
    "    params,\n",
    "    lalsim.IMRPhenomPv3HM\n",
    ")\n",
    "\n",
    "f_lal = np.arange(hplal.data.length) * hplal.deltaF"
   ]
  },
  {
   "cell_type": "code",
   "execution_count": 735,
   "metadata": {
    "ExecuteTime": {
     "end_time": "2019-04-20T16:05:59.757256Z",
     "start_time": "2019-04-20T16:05:59.752778Z"
    }
   },
   "outputs": [],
   "source": [
    "# let's remove the leading order PN frequency scaling to make comparisons easier"
   ]
  },
  {
   "cell_type": "code",
   "execution_count": 736,
   "metadata": {
    "ExecuteTime": {
     "end_time": "2019-04-20T16:05:59.774334Z",
     "start_time": "2019-04-20T16:05:59.761595Z"
    }
   },
   "outputs": [],
   "source": [
    "# for lal\n",
    "f_lal_nonzero = f_lal[np.abs(hplal.data.data)>0]\n",
    "hplal_nonzero = hplal.data.data[np.abs(hplal.data.data)>0]\n",
    "hclal_nonzero = hclal.data.data[np.abs(hclal.data.data)>0]\n",
    "\n",
    "f_lal_nonzero_PNscale = np.array([ff**(-7/6.) for ff in f_lal_nonzero])"
   ]
  },
  {
   "cell_type": "code",
   "execution_count": 737,
   "metadata": {
    "ExecuteTime": {
     "end_time": "2019-04-20T16:05:59.789432Z",
     "start_time": "2019-04-20T16:05:59.778514Z"
    }
   },
   "outputs": [],
   "source": [
    "# for my version\n",
    "f2_PNscale = np.array([ff**(-7./6) for ff in f2])"
   ]
  },
  {
   "cell_type": "code",
   "execution_count": 738,
   "metadata": {
    "ExecuteTime": {
     "end_time": "2019-04-20T16:05:59.807285Z",
     "start_time": "2019-04-20T16:05:59.792892Z"
    }
   },
   "outputs": [],
   "source": [
    "# MB version\n",
    "\n",
    "fMB_PNscale = np.array([ff**(-7./6) for ff in fMB])"
   ]
  },
  {
   "cell_type": "code",
   "execution_count": null,
   "metadata": {},
   "outputs": [],
   "source": []
  },
  {
   "cell_type": "code",
   "execution_count": 739,
   "metadata": {
    "ExecuteTime": {
     "end_time": "2019-04-20T16:06:00.609809Z",
     "start_time": "2019-04-20T16:05:59.812010Z"
    }
   },
   "outputs": [
    {
     "data": {
      "image/png": "[encoded data removed]",
      "text/plain": [
       "<Figure size 1008x864 with 2 Axes>"
      ]
     },
     "metadata": {
      "needs_background": "light"
     },
     "output_type": "display_data"
    }
   ],
   "source": [
    "sc=1e21\n",
    "\n",
    "fig, axes = plt.subplots(2, 1, figsize=(14, 12))\n",
    "\n",
    "axes[0].plot(f2, np.abs(hp2)/f2_PNscale * sc, label='Plus(Mine)')\n",
    "axes[0].plot(f_lal_nonzero, np.abs(hplal_nonzero)/f_lal_nonzero_PNscale * sc, label='Plus(LAL)', ls='--')\n",
    "\n",
    "axes[0].plot(fMB, np.abs(hpMB)/fMB_PNscale * sc, label='Plus(MB)', ls=':')\n",
    "\n",
    "axes[0].set_xscale('log')\n",
    "axes[0].set_yscale('log')\n",
    "axes[0].legend()\n",
    "\n",
    "axes[1].plot(f2, np.abs(hc2)/f2_PNscale * sc, label='Cross(Mine)')\n",
    "axes[1].plot(f_lal_nonzero, np.abs(hclal_nonzero)/f_lal_nonzero_PNscale * sc, label='Cross(LAL)', ls='--')\n",
    "\n",
    "axes[1].plot(fMB, np.abs(hcMB)/fMB_PNscale * sc, label='Cross(MB)',ls=':')\n",
    "\n",
    "axes[1].set_xscale('log')\n",
    "axes[1].set_yscale('log')\n",
    "axes[1].legend()\n",
    "\n",
    "for ax in axes:\n",
    "    ax.set_xlim(20, 1000)\n",
    "    ax.set_ylim(200, 700)\n",
    "\n",
    "plt.show()"
   ]
  },
  {
   "cell_type": "code",
   "execution_count": null,
   "metadata": {},
   "outputs": [],
   "source": []
  },
  {
   "cell_type": "code",
   "execution_count": null,
   "metadata": {},
   "outputs": [],
   "source": []
  },
  {
   "cell_type": "code",
   "execution_count": 740,
   "metadata": {
    "ExecuteTime": {
     "end_time": "2019-04-20T16:06:01.895880Z",
     "start_time": "2019-04-20T16:06:00.612858Z"
    }
   },
   "outputs": [
    {
     "data": {
      "image/png": "[encoded data removed]",
      "text/plain": [
       "<Figure size 1008x864 with 2 Axes>"
      ]
     },
     "metadata": {
      "needs_background": "light"
     },
     "output_type": "display_data"
    }
   ],
   "source": [
    "#without f**(-7/6) scaling\n",
    "\n",
    "sc=1e21\n",
    "\n",
    "fig, axes = plt.subplots(2, 1, figsize=(14, 12))\n",
    "\n",
    "axes[0].plot(f2, np.abs(hp2) * sc, ls='-', label='my_plus (pv3hm)')\n",
    "axes[0].plot(f_lal, np.abs(hplal.data.data) * sc, ls='--', label='pv3hm_lal_plus')\n",
    "\n",
    "axes[0].plot(fMB, np.abs(hpMB) * sc, ls='-', label='MB plus (pv3hm)')\n",
    "\n",
    "axes[0].set_xscale('log')\n",
    "axes[0].set_yscale('log')\n",
    "axes[0].legend()\n",
    "\n",
    "axes[1].plot(f2, np.abs(hc2) * sc, ls='-', label='my_cross (pv3hm)')\n",
    "axes[1].plot(f_lal, np.abs(hclal.data.data) * sc, ls='--', label='pv3hm_lal_cross')\n",
    "\n",
    "axes[1].plot(fMB, np.abs(hcMB) * sc, ls='-', label='MB cross (pv3hm)')\n",
    "\n",
    "axes[1].set_xscale('log')\n",
    "axes[1].set_yscale('log')\n",
    "axes[1].legend()\n",
    "\n",
    "for ax in axes:\n",
    "    ax.set_xlim(20, 1500)\n",
    "#     ax.set_ylim(1e0, 2e1)\n",
    "\n",
    "plt.show()"
   ]
  },
  {
   "cell_type": "code",
   "execution_count": null,
   "metadata": {},
   "outputs": [],
   "source": []
  },
  {
   "cell_type": "code",
   "execution_count": null,
   "metadata": {},
   "outputs": [],
   "source": []
  },
  {
   "cell_type": "code",
   "execution_count": null,
   "metadata": {},
   "outputs": [],
   "source": []
  },
  {
   "cell_type": "code",
   "execution_count": null,
   "metadata": {},
   "outputs": [],
   "source": []
  }
 ],
 "metadata": {
  "kernelspec": {
   "display_name": "Python 2",
   "language": "python",
   "name": "python2"
  },
  "language_info": {
   "codemirror_mode": {
    "name": "ipython",
    "version": 2
   },
   "file_extension": ".py",
   "mimetype": "text/x-python",
   "name": "python",
   "nbconvert_exporter": "python",
   "pygments_lexer": "ipython2",
   "version": "2.7.14"
  },
  "toc": {
   "nav_menu": {
    "height": "12px",
    "width": "252px"
   },
   "navigate_menu": true,
   "number_sections": true,
   "sideBar": false,
   "threshold": 4,
   "toc_cell": true,
   "toc_section_display": "block",
   "toc_window_display": false
  }
 },
 "nbformat": 4,
 "nbformat_minor": 2
}
