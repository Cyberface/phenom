{
 "cells": [
  {
   "cell_type": "markdown",
   "metadata": {
    "toc": "true"
   },
   "source": [
    "# Table of Contents\n",
    " <p><div class=\"lev1\"><a href=\"#imports-1\"><span class=\"toc-item-num\">1&nbsp;&nbsp;</span>imports</a></div><div class=\"lev1\"><a href=\"#setup-lalsim-function-2\"><span class=\"toc-item-num\">2&nbsp;&nbsp;</span>setup lalsim function</a></div><div class=\"lev1\"><a href=\"#setup-phenom-function-3\"><span class=\"toc-item-num\">3&nbsp;&nbsp;</span>setup phenom function</a></div><div class=\"lev3\"><a href=\"#calling-the-approximant-directly-3.0.1\"><span class=\"toc-item-num\">3.0.1&nbsp;&nbsp;</span>calling the approximant directly</a></div><div class=\"lev3\"><a href=\"#calling-the-approximant-through-the-waveform-class-3.0.2\"><span class=\"toc-item-num\">3.0.2&nbsp;&nbsp;</span>calling the approximant through the waveform class</a></div><div class=\"lev2\"><a href=\"#comparisons-3.1\"><span class=\"toc-item-num\">3.1&nbsp;&nbsp;</span>comparisons</a></div><div class=\"lev3\"><a href=\"#calling-the-approximant-directly-3.1.1\"><span class=\"toc-item-num\">3.1.1&nbsp;&nbsp;</span>calling the approximant directly</a></div><div class=\"lev3\"><a href=\"#calling-the-approximant-through-the-Waveform-class-3.1.2\"><span class=\"toc-item-num\">3.1.2&nbsp;&nbsp;</span>calling the approximant through the Waveform class</a></div><div class=\"lev1\"><a href=\"#example-using-MakeWaveformSeries-for-phenom-and-LAL-waveforms-4\"><span class=\"toc-item-num\">4&nbsp;&nbsp;</span>example using MakeWaveformSeries for phenom and LAL waveforms</a></div>"
   ]
  },
  {
   "cell_type": "markdown",
   "metadata": {},
   "source": [
    "# imports"
   ]
  },
  {
   "cell_type": "code",
   "execution_count": 1,
   "metadata": {
    "collapsed": false
   },
   "outputs": [],
   "source": [
    "%matplotlib inline\n",
    "\n",
    "import matplotlib\n",
    "import numpy as np\n",
    "import matplotlib.pyplot as plt"
   ]
  },
  {
   "cell_type": "code",
   "execution_count": 2,
   "metadata": {
    "collapsed": true
   },
   "outputs": [],
   "source": [
    "import phenom\n",
    "from phenom.utils.utils import Constants"
   ]
  },
  {
   "cell_type": "markdown",
   "metadata": {},
   "source": [
    "# setup lalsim function"
   ]
  },
  {
   "cell_type": "code",
   "execution_count": 25,
   "metadata": {
    "collapsed": true
   },
   "outputs": [],
   "source": [
    "import lal\n",
    "import lalsimulation as lalsim"
   ]
  },
  {
   "cell_type": "code",
   "execution_count": 4,
   "metadata": {
    "collapsed": false
   },
   "outputs": [],
   "source": [
    "m1 = 8.\n",
    "m2 = 8.\n",
    "chi1x = 0.9\n",
    "chi1z = 0.\n",
    "chi2z = 0.\n",
    "f_min = 10.\n",
    "fRef = 0.\n",
    "inclination = 0.\n",
    "_lshp, _lshc = lalsim.SimInspiralChooseFDWaveform(0, 1./64.,\n",
    "                                                m1*lal.MSUN_SI, m2*lal.MSUN_SI,\n",
    "                                                chi1x, 0, chi1z,\n",
    "                                                0, 0, chi2z,\n",
    "                                                f_min, 0, fRef,\n",
    "                                                1e6*phenom.Constants.PC_SI,\n",
    "                                                inclination,\n",
    "                                                0, 0,\n",
    "                                                None, None,\n",
    "                                                -1, -1,\n",
    "                                                lalsim.IMRPhenomPv2)\n",
    "\n",
    "lsf = (np.arange(_lshp.data.length) * _lshp.deltaF)\n",
    "lshp = (_lshp.data.data)\n",
    "lshc = (_lshc.data.data)"
   ]
  },
  {
   "cell_type": "code",
   "execution_count": 5,
   "metadata": {
    "collapsed": false
   },
   "outputs": [
    {
     "data": {
      "text/plain": [
       "(10, 2000)"
      ]
     },
     "execution_count": 5,
     "metadata": {},
     "output_type": "execute_result"
    },
    {
     "data": {
      "image/png": "[encoded data removed]",
      "text/plain": [
       "<matplotlib.figure.Figure at 0x107f44810>"
      ]
     },
     "metadata": {},
     "output_type": "display_data"
    }
   ],
   "source": [
    "plt.figure()\n",
    "# plt.plot(fl_Hz, np.abs(phenp.hp), label='hp')\n",
    "plt.plot(lsf, np.abs(lshp), label='hp-lalsim')\n",
    "plt.plot(lsf, np.abs(lshc), label='hc-lalsim')\n",
    "# plt.plot(fl_Hz, np.abs(phenp.hc), label='hc')\n",
    "# plt.plot(fl_Hz, np.abs(phenp.hP), label='h_aligned')\n",
    "plt.legend(loc='best')\n",
    "plt.xscale('log')\n",
    "plt.yscale('log')\n",
    "plt.xlim(10,2000)\n",
    "# plt.savefig('lal_phenp_1.png')\n",
    "# plt.close()"
   ]
  },
  {
   "cell_type": "markdown",
   "metadata": {},
   "source": [
    "# setup phenom function"
   ]
  },
  {
   "cell_type": "markdown",
   "metadata": {},
   "source": [
    "### calling the approximant directly"
   ]
  },
  {
   "cell_type": "code",
   "execution_count": 6,
   "metadata": {
    "collapsed": false
   },
   "outputs": [],
   "source": [
    "input_params = {}\n",
    "input_params.update({'m1' : m1})\n",
    "input_params.update({'m2' : m2})\n",
    "input_params.update({'chi1x' : chi1x})\n",
    "input_params.update({'chi1z' : chi1z})\n",
    "input_params.update({'chi2z' : chi2z})\n",
    "input_params.update({'f_min' : f_min})\n",
    "input_params.update({'fRef' : fRef})\n",
    "input_params.update({'inclination' : inclination})\n",
    "\n",
    "phenp = phenom.PhenomP(**input_params)"
   ]
  },
  {
   "cell_type": "code",
   "execution_count": 7,
   "metadata": {
    "collapsed": false
   },
   "outputs": [],
   "source": [
    "fl_Hz = np.arange(phenp.p['f_min'], phenp.p['f_max'], phenp.p['delta_f'])"
   ]
  },
  {
   "cell_type": "code",
   "execution_count": 8,
   "metadata": {
    "collapsed": false
   },
   "outputs": [
    {
     "data": {
      "image/png": "[encoded data removed]",
      "text/plain": [
       "<matplotlib.figure.Figure at 0x107f44b50>"
      ]
     },
     "metadata": {},
     "output_type": "display_data"
    }
   ],
   "source": [
    "plt.figure()\n",
    "plt.plot(fl_Hz, np.abs(phenp.hp), label='hp')\n",
    "plt.plot(fl_Hz, np.abs(phenp.hc), label='hc')\n",
    "plt.legend(loc='best')\n",
    "plt.xscale('log')\n",
    "plt.yscale('log')"
   ]
  },
  {
   "cell_type": "markdown",
   "metadata": {},
   "source": [
    "### calling the approximant through the waveform class"
   ]
  },
  {
   "cell_type": "code",
   "execution_count": null,
   "metadata": {
    "collapsed": true
   },
   "outputs": [],
   "source": []
  },
  {
   "cell_type": "code",
   "execution_count": 9,
   "metadata": {
    "collapsed": false
   },
   "outputs": [],
   "source": [
    "input_params = {}\n",
    "input_params.update({'m1' : m1})\n",
    "input_params.update({'m2' : m2})\n",
    "input_params.update({'chi1x' : chi1x})\n",
    "input_params.update({'chi1z' : chi1z})\n",
    "input_params.update({'chi2z' : chi2z})\n",
    "input_params.update({'f_min' : f_min})\n",
    "input_params.update({'fRef' : fRef})\n",
    "input_params.update({'inclination' : inclination})\n",
    "\n",
    "phenp = phenom.Waveform(approximant=\"IMRPhenomPv2_LAL\", **input_params)"
   ]
  },
  {
   "cell_type": "code",
   "execution_count": 10,
   "metadata": {
    "collapsed": false
   },
   "outputs": [
    {
     "data": {
      "image/png": "[encoded data removed]",
      "text/plain": [
       "<matplotlib.figure.Figure at 0x107f446d0>"
      ]
     },
     "metadata": {},
     "output_type": "display_data"
    }
   ],
   "source": [
    "plt.figure()\n",
    "plt.plot(phenp.flist_Hz, np.abs(phenp.hptilde), label='hp')\n",
    "plt.plot(phenp.flist_Hz, np.abs(phenp.hctilde), label='hc')\n",
    "plt.legend(loc='best')\n",
    "plt.xscale('log')\n",
    "plt.yscale('log')"
   ]
  },
  {
   "cell_type": "code",
   "execution_count": null,
   "metadata": {
    "collapsed": true
   },
   "outputs": [],
   "source": []
  },
  {
   "cell_type": "code",
   "execution_count": null,
   "metadata": {
    "collapsed": true
   },
   "outputs": [],
   "source": []
  },
  {
   "cell_type": "code",
   "execution_count": null,
   "metadata": {
    "collapsed": true
   },
   "outputs": [],
   "source": []
  },
  {
   "cell_type": "markdown",
   "metadata": {},
   "source": [
    "## comparisons"
   ]
  },
  {
   "cell_type": "markdown",
   "metadata": {},
   "source": [
    "### calling the approximant directly"
   ]
  },
  {
   "cell_type": "code",
   "execution_count": 11,
   "metadata": {
    "collapsed": true
   },
   "outputs": [],
   "source": [
    "def compare_with_lal(m1=8., m2=8., chi1x=0.9, chi1z=0., chi2z=0., fmin=10., fRef=0., inclination=0.):\n",
    "\n",
    "    #compute lal\n",
    "    _lshp, _lshc = lalsim.SimInspiralChooseFDWaveform(0, 1./64.,\n",
    "                                                    m1*lal.MSUN_SI, m2*lal.MSUN_SI,\n",
    "                                                    chi1x, 0, chi1z,\n",
    "                                                    0, 0, chi2z,\n",
    "                                                    f_min, 0, fRef,\n",
    "                                                    1e6*phenom.Constants.PC_SI,\n",
    "                                                    inclination,\n",
    "                                                    0, 0,\n",
    "                                                    None, None,\n",
    "                                                    -1, -1,\n",
    "                                                    lalsim.IMRPhenomPv2)\n",
    "\n",
    "    lsf = (np.arange(_lshp.data.length) * _lshp.deltaF)\n",
    "    lshp = (_lshp.data.data)\n",
    "    lshc = (_lshc.data.data)\n",
    "    #compute phenom\n",
    "    input_params = {}\n",
    "    input_params.update({'m1' : m1})\n",
    "    input_params.update({'m2' : m2})\n",
    "    input_params.update({'chi1x' : chi1x})\n",
    "    input_params.update({'chi1z' : chi1z})\n",
    "    input_params.update({'chi2z' : chi2z})\n",
    "    input_params.update({'f_min' : f_min})\n",
    "    input_params.update({'fRef' : fRef})\n",
    "    input_params.update({'inclination' : inclination})\n",
    "\n",
    "    phenp = phenom.PhenomP(**input_params)\n",
    "    fl_Hz = np.arange(phenp.p['f_min'], phenp.p['f_max'], phenp.p['delta_f'])\n",
    "    \n",
    "    plt.figure()\n",
    "    plt.plot(fl_Hz, np.abs(phenp.hp), label='hp')\n",
    "    plt.plot(lsf, np.abs(lshp), label='hp-lalsim')\n",
    "#     plt.plot(fl_Hz, np.abs(phenp.hc), label='hc')\n",
    "    plt.legend(loc='best')\n",
    "    plt.xscale('log')\n",
    "    plt.yscale('log')\n",
    "    plt.xlim(10,2000)"
   ]
  },
  {
   "cell_type": "code",
   "execution_count": 12,
   "metadata": {
    "collapsed": false
   },
   "outputs": [
    {
     "data": {
      "image/png": "[encoded data removed]",
      "text/plain": [
       "<matplotlib.figure.Figure at 0x109485510>"
      ]
     },
     "metadata": {},
     "output_type": "display_data"
    }
   ],
   "source": [
    "compare_with_lal(chi1x=0.01)"
   ]
  },
  {
   "cell_type": "code",
   "execution_count": null,
   "metadata": {
    "collapsed": true
   },
   "outputs": [],
   "source": []
  },
  {
   "cell_type": "code",
   "execution_count": null,
   "metadata": {
    "collapsed": true
   },
   "outputs": [],
   "source": []
  },
  {
   "cell_type": "code",
   "execution_count": null,
   "metadata": {
    "collapsed": true
   },
   "outputs": [],
   "source": []
  },
  {
   "cell_type": "markdown",
   "metadata": {
    "collapsed": true
   },
   "source": [
    "### calling the approximant through the Waveform class"
   ]
  },
  {
   "cell_type": "code",
   "execution_count": 13,
   "metadata": {
    "collapsed": true
   },
   "outputs": [],
   "source": [
    "def compare_with_lal(m1=8., m2=8., chi1x=0.9, chi1z=0., chi2z=0., fmin=10., fRef=0., inclination=0.):\n",
    "\n",
    "    #compute lal\n",
    "    _lshp, _lshc = lalsim.SimInspiralChooseFDWaveform(0, 1./64.,\n",
    "                                                    m1*lal.MSUN_SI, m2*lal.MSUN_SI,\n",
    "                                                    chi1x, 0, chi1z,\n",
    "                                                    0, 0, chi2z,\n",
    "                                                    f_min, 0, fRef,\n",
    "                                                    1e6*phenom.Constants.PC_SI,\n",
    "                                                    inclination,\n",
    "                                                    0, 0,\n",
    "                                                    None, None,\n",
    "                                                    -1, -1,\n",
    "                                                    lalsim.IMRPhenomPv2)\n",
    "\n",
    "    lsf = (np.arange(_lshp.data.length) * _lshp.deltaF)\n",
    "    lshp = (_lshp.data.data)\n",
    "    lshc = (_lshc.data.data)\n",
    "    #compute phenom\n",
    "    input_params = {}\n",
    "    input_params.update({'m1' : m1})\n",
    "    input_params.update({'m2' : m2})\n",
    "    input_params.update({'chi1x' : chi1x})\n",
    "    input_params.update({'chi1z' : chi1z})\n",
    "    input_params.update({'chi2z' : chi2z})\n",
    "    input_params.update({'f_min' : f_min})\n",
    "    input_params.update({'fRef' : fRef})\n",
    "    input_params.update({'inclination' : inclination})\n",
    "\n",
    "    phenp = phenom.Waveform(approximant=\"IMRPhenomPv2_LAL\", **input_params)\n",
    "\n",
    "    \n",
    "    plt.figure()\n",
    "    plt.plot(phenp.flist_Hz, np.abs(phenp.hptilde), label='hp')\n",
    "    plt.plot(lsf, np.abs(lshp), label='hp-lalsim')\n",
    "#     plt.plot(fl_Hz, np.abs(phenp.hc), label='hc')\n",
    "    plt.legend(loc='best')\n",
    "    plt.xscale('log')\n",
    "    plt.yscale('log')\n",
    "    plt.xlim(10,2000)"
   ]
  },
  {
   "cell_type": "code",
   "execution_count": 14,
   "metadata": {
    "collapsed": false
   },
   "outputs": [
    {
     "data": {
      "image/png": "[encoded data removed]",
      "text/plain": [
       "<matplotlib.figure.Figure at 0x10940da90>"
      ]
     },
     "metadata": {},
     "output_type": "display_data"
    }
   ],
   "source": [
    "compare_with_lal(chi1x=0.9, m1=40.42)"
   ]
  },
  {
   "cell_type": "code",
   "execution_count": null,
   "metadata": {
    "collapsed": true
   },
   "outputs": [],
   "source": []
  },
  {
   "cell_type": "code",
   "execution_count": null,
   "metadata": {
    "collapsed": true
   },
   "outputs": [],
   "source": []
  },
  {
   "cell_type": "markdown",
   "metadata": {},
   "source": [
    "# example using MakeWaveformSeries for phenom and LAL waveforms"
   ]
  },
  {
   "cell_type": "code",
   "execution_count": 5,
   "metadata": {
    "collapsed": false
   },
   "outputs": [],
   "source": [
    "wf1 = phenom.Waveform(approximant=\"IMRPhenomPv2_LAL\")"
   ]
  },
  {
   "cell_type": "code",
   "execution_count": 6,
   "metadata": {
    "collapsed": false
   },
   "outputs": [
    {
     "data": {
      "text/plain": [
       "{'approximant': 'IMRPhenomPv2_LAL',\n",
       " 'chi1x': 0.0,\n",
       " 'chi1y': 0.0,\n",
       " 'chi1z': 0.0,\n",
       " 'chi2x': 0.0,\n",
       " 'chi2y': 0.0,\n",
       " 'chi2z': 0.0,\n",
       " 'delta_f': 0.5,\n",
       " 'delta_t': 0.5,\n",
       " 'distance': 3.085677581491367e+22,\n",
       " 'fRef': 0.0,\n",
       " 'f_max': 0.0,\n",
       " 'f_min': 30.0,\n",
       " 'inclination': 0.0,\n",
       " 'm1': 50.0,\n",
       " 'm2': 50.0,\n",
       " 'phiRef': 0.0}"
      ]
     },
     "execution_count": 6,
     "metadata": {},
     "output_type": "execute_result"
    }
   ],
   "source": [
    "wf1.input_params"
   ]
  },
  {
   "cell_type": "code",
   "execution_count": 7,
   "metadata": {
    "collapsed": true
   },
   "outputs": [],
   "source": [
    "_lshp, _lshc = lalsim.SimInspiralChooseFDWaveform(0, wf1.input_params['delta_f'],\n",
    "                                                wf1.input_params['m1']*lal.MSUN_SI,\n",
    "                                                wf1.input_params['m2']*lal.MSUN_SI,\n",
    "                                                wf1.input_params['chi1x'], 0, wf1.input_params['chi1z'],\n",
    "                                                0, 0, wf1.input_params['chi2z'],\n",
    "                                                wf1.input_params['f_min'], 0, wf1.input_params['fRef'],\n",
    "                                                1e6*phenom.Constants.PC_SI,\n",
    "                                                wf1.input_params['inclination'],\n",
    "                                                0, 0,\n",
    "                                                None, None,\n",
    "                                                -1, -1,\n",
    "                                                lalsim.IMRPhenomPv2)\n",
    "\n",
    "lsf = (np.arange(_lshp.data.length) * _lshp.deltaF)\n",
    "lshp = (_lshp.data.data)\n",
    "lshc = (_lshc.data.data)"
   ]
  },
  {
   "cell_type": "code",
   "execution_count": 8,
   "metadata": {
    "collapsed": true
   },
   "outputs": [],
   "source": [
    "ws1 = phenom.MakeWaveformSeries(wf1.flist_Hz, wf1.hptilde, wf1.hctilde)\n",
    "lal_ws = phenom.MakeWaveformSeries(lsf, lshp, lshc)"
   ]
  },
  {
   "cell_type": "code",
   "execution_count": null,
   "metadata": {
    "collapsed": true
   },
   "outputs": [],
   "source": []
  },
  {
   "cell_type": "code",
   "execution_count": 9,
   "metadata": {
    "collapsed": true
   },
   "outputs": [],
   "source": [
    "match = phenom.Match()"
   ]
  },
  {
   "cell_type": "code",
   "execution_count": 10,
   "metadata": {
    "collapsed": false
   },
   "outputs": [
    {
     "data": {
      "text/plain": [
       "0.99999999999635447"
      ]
     },
     "execution_count": 10,
     "metadata": {},
     "output_type": "execute_result"
    }
   ],
   "source": [
    "match.match(ws1, lal_ws)"
   ]
  },
  {
   "cell_type": "code",
   "execution_count": null,
   "metadata": {
    "collapsed": true
   },
   "outputs": [],
   "source": []
  }
 ],
 "metadata": {
  "kernelspec": {
   "display_name": "Python 2",
   "language": "python",
   "name": "python2"
  },
  "language_info": {
   "codemirror_mode": {
    "name": "ipython",
    "version": 2
   },
   "file_extension": ".py",
   "mimetype": "text/x-python",
   "name": "python",
   "nbconvert_exporter": "python",
   "pygments_lexer": "ipython2",
   "version": "2.7.11"
  },
  "toc": {
   "toc_cell": true,
   "toc_number_sections": true,
   "toc_threshold": 6,
   "toc_window_display": false
  }
 },
 "nbformat": 4,
 "nbformat_minor": 0
}
