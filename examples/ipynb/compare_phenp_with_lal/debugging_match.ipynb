{
 "cells": [
  {
   "cell_type": "markdown",
   "metadata": {
    "toc": "true"
   },
   "source": [
    "# Table of Contents\n",
    " <p><div class=\"lev1\"><a href=\"#imports-1\"><span class=\"toc-item-num\">1&nbsp;&nbsp;</span>imports</a></div><div class=\"lev1\"><a href=\"#example-match-that-works-currently-2\"><span class=\"toc-item-num\">2&nbsp;&nbsp;</span>example match that works currently</a></div><div class=\"lev3\"><a href=\"#directly-calling-the-waveform-2.0.1\"><span class=\"toc-item-num\">2.0.1&nbsp;&nbsp;</span>directly calling the waveform</a></div><div class=\"lev3\"><a href=\"#calling-approximant-from-Waveform-class-2.0.2\"><span class=\"toc-item-num\">2.0.2&nbsp;&nbsp;</span>calling approximant from Waveform class</a></div><div class=\"lev1\"><a href=\"#try-with-phenomP-3\"><span class=\"toc-item-num\">3&nbsp;&nbsp;</span>try with phenomP</a></div><div class=\"lev3\"><a href=\"#directly-calling-the-waveform-3.0.1\"><span class=\"toc-item-num\">3.0.1&nbsp;&nbsp;</span>directly calling the waveform</a></div><div class=\"lev3\"><a href=\"#calling-approximant-from-Waveform-class-3.0.2\"><span class=\"toc-item-num\">3.0.2&nbsp;&nbsp;</span>calling approximant from Waveform class</a></div><div class=\"lev1\"><a href=\"#try-with-lalsim-4\"><span class=\"toc-item-num\">4&nbsp;&nbsp;</span>try with lalsim</a></div><div class=\"lev2\"><a href=\"#try-and-use-my-match-function-with-lal-waveform-4.1\"><span class=\"toc-item-num\">4.1&nbsp;&nbsp;</span>try and use my match function with lal waveform</a></div><div class=\"lev1\"><a href=\"#try-phenom-vs-lal---the-mixed-case-5\"><span class=\"toc-item-num\">5&nbsp;&nbsp;</span>try phenom vs lal - the mixed case</a></div><div class=\"lev1\"><a href=\"#phenom-vs-lal-6\"><span class=\"toc-item-num\">6&nbsp;&nbsp;</span>phenom vs lal</a></div><div class=\"lev1\"><a href=\"#double-check-the-phenomD-lal-vs-phenom-results-7\"><span class=\"toc-item-num\">7&nbsp;&nbsp;</span>double check the phenomD lal vs phenom results</a></div><div class=\"lev1\"><a href=\"#compare-phenom[phenomP,-chip=0]-with-lal[phenomD]-8\"><span class=\"toc-item-num\">8&nbsp;&nbsp;</span>compare phenom[phenomP, chip=0] with lal[phenomD]</a></div><div class=\"lev1\"><a href=\"#compare-phenom[phenomD]-with-lal[phenomP,-chip=0]-9\"><span class=\"toc-item-num\">9&nbsp;&nbsp;</span>compare phenom[phenomD] with lal[phenomP, chip=0]</a></div>"
   ]
  },
  {
   "cell_type": "markdown",
   "metadata": {},
   "source": [
    "# imports"
   ]
  },
  {
   "cell_type": "code",
   "execution_count": 1,
   "metadata": {
    "collapsed": true
   },
   "outputs": [],
   "source": [
    "import phenom"
   ]
  },
  {
   "cell_type": "code",
   "execution_count": 2,
   "metadata": {
    "collapsed": true
   },
   "outputs": [],
   "source": [
    "import numpy as np"
   ]
  },
  {
   "cell_type": "code",
   "execution_count": 3,
   "metadata": {
    "collapsed": false
   },
   "outputs": [],
   "source": [
    "%matplotlib inline\n",
    "import matplotlib.pyplot as plt"
   ]
  },
  {
   "cell_type": "markdown",
   "metadata": {},
   "source": [
    "# example match that works currently"
   ]
  },
  {
   "cell_type": "markdown",
   "metadata": {},
   "source": [
    "### directly calling the waveform"
   ]
  },
  {
   "cell_type": "code",
   "execution_count": 4,
   "metadata": {
    "collapsed": true
   },
   "outputs": [],
   "source": [
    "ph1 = phenom.PhenomD(m1=100, m2=10., chi1z=0., f_min=10, delta_f=1./128.)\n",
    "ph2 = phenom.PhenomD(m1=100, m2=10.1, chi1z=0., f_min=10, delta_f=1./128.)"
   ]
  },
  {
   "cell_type": "code",
   "execution_count": 5,
   "metadata": {
    "collapsed": true
   },
   "outputs": [],
   "source": [
    "#generate htilde\n",
    "ph1.IMRPhenomDGenerateFD()\n",
    "ph2.IMRPhenomDGenerateFD()"
   ]
  },
  {
   "cell_type": "code",
   "execution_count": 6,
   "metadata": {
    "collapsed": false
   },
   "outputs": [],
   "source": [
    "#load psd function\n",
    "# psd_fun = phenom.read_and_interp_psd_from_txt(phenom.PHENOM_PACKAGE_PATH + '/psd/data/ZERO_DET_high_P.txt')\n",
    "psd_fun = phenom.read_and_interp_psd_from_txt('/Users/sebastian/git/phenom/phenom' + '/psd/data/ZERO_DET_high_P.txt')\n",
    "\n",
    "#get instance of Match\n",
    "match = phenom.Match()"
   ]
  },
  {
   "cell_type": "code",
   "execution_count": 7,
   "metadata": {
    "collapsed": false
   },
   "outputs": [
    {
     "name": "stdout",
     "output_type": "stream",
     "text": [
      "9.0\n",
      "8192.0\n"
     ]
    }
   ],
   "source": [
    "print psd_fun.x[0]\n",
    "print psd_fun.x[-1]"
   ]
  },
  {
   "cell_type": "code",
   "execution_count": 9,
   "metadata": {
    "collapsed": false
   },
   "outputs": [
    {
     "name": "stdout",
     "output_type": "stream",
     "text": [
      "\n"
     ]
    }
   ],
   "source": [
    "ph1_wfs = phenom.MakeWaveformSeries(ph1.flist_Hz, ph1.htilde, ph1.htilde)\n",
    "ph2_wfs = phenom.MakeWaveformSeries(ph2.flist_Hz, ph2.htilde, ph2.htilde)"
   ]
  },
  {
   "cell_type": "code",
   "execution_count": 10,
   "metadata": {
    "collapsed": false
   },
   "outputs": [
    {
     "name": "stdout",
     "output_type": "stream",
     "text": [
      "[with psd] match =  0.969064696777\n"
     ]
    }
   ],
   "source": [
    "print \"[with psd] match = \", match.match(ph1_wfs, ph2_wfs, fmin=10, fmax=0, psd_fun=psd_fun)"
   ]
  },
  {
   "cell_type": "markdown",
   "metadata": {},
   "source": [
    "### calling approximant from Waveform class"
   ]
  },
  {
   "cell_type": "code",
   "execution_count": 11,
   "metadata": {
    "collapsed": false
   },
   "outputs": [],
   "source": [
    "wf1 = phenom.Waveform(approximant=\"IMRPhenomD\", m1=100, m2=10., chi1z=0., f_min=10, delta_f=1./128.)\n",
    "wf2 = phenom.Waveform(approximant=\"IMRPhenomD\", m1=100, m2=10.1, chi1z=0., f_min=10, delta_f=1./128.)"
   ]
  },
  {
   "cell_type": "code",
   "execution_count": 12,
   "metadata": {
    "collapsed": true
   },
   "outputs": [],
   "source": [
    "wf1_wfs = phenom.MakeWaveformSeries(wf1.flist_Hz, wf1.hptilde, wf1.hctilde)\n",
    "wf2_wfs = phenom.MakeWaveformSeries(wf2.flist_Hz, wf2.hptilde, wf2.hctilde)"
   ]
  },
  {
   "cell_type": "code",
   "execution_count": 13,
   "metadata": {
    "collapsed": false
   },
   "outputs": [
    {
     "name": "stdout",
     "output_type": "stream",
     "text": [
      "[with psd] match =  0.969064696777\n"
     ]
    }
   ],
   "source": [
    "print \"[with psd] match = \", match.match(wf1_wfs, wf2_wfs, fmin=10, fmax=0, psd_fun=psd_fun)"
   ]
  },
  {
   "cell_type": "code",
   "execution_count": null,
   "metadata": {
    "collapsed": true
   },
   "outputs": [],
   "source": []
  },
  {
   "cell_type": "markdown",
   "metadata": {},
   "source": [
    "# try with phenomP"
   ]
  },
  {
   "cell_type": "markdown",
   "metadata": {},
   "source": [
    "### directly calling the waveform"
   ]
  },
  {
   "cell_type": "code",
   "execution_count": 14,
   "metadata": {
    "collapsed": false
   },
   "outputs": [],
   "source": [
    "php1 = phenom.PhenomP(m1=100, m2=10., chi1z=0.5, f_min=10, delta_f=1./32.)\n",
    "php2 = phenom.PhenomP(m1=100, m2=10.1, chi1z=0.5, f_min=10, delta_f=1./32.)"
   ]
  },
  {
   "cell_type": "code",
   "execution_count": 16,
   "metadata": {
    "collapsed": false
   },
   "outputs": [],
   "source": [
    "php1_wfs = phenom.MakeWaveformSeries(php1.flist_Hz, php1.hp, php1.hc)\n",
    "php2_wfs = phenom.MakeWaveformSeries(php2.flist_Hz, php2.hp, php2.hc)"
   ]
  },
  {
   "cell_type": "code",
   "execution_count": 17,
   "metadata": {
    "collapsed": false
   },
   "outputs": [
    {
     "name": "stdout",
     "output_type": "stream",
     "text": [
      "[with psd] match = 0.94166740\n"
     ]
    }
   ],
   "source": [
    "print \"[with psd] match = {0:.8f}\".format(match.match(php1_wfs, php2_wfs, fmin=10, fmax=0, psd_fun=psd_fun))"
   ]
  },
  {
   "cell_type": "code",
   "execution_count": null,
   "metadata": {
    "collapsed": true
   },
   "outputs": [],
   "source": []
  },
  {
   "cell_type": "markdown",
   "metadata": {},
   "source": [
    "### calling approximant from Waveform class"
   ]
  },
  {
   "cell_type": "code",
   "execution_count": null,
   "metadata": {
    "collapsed": true
   },
   "outputs": [],
   "source": []
  },
  {
   "cell_type": "code",
   "execution_count": 18,
   "metadata": {
    "collapsed": false
   },
   "outputs": [],
   "source": [
    "wf1 = phenom.Waveform(approximant=\"IMRPhenomPv2_LAL\", m1=100, m2=10., chi1z=0.5, f_min=10, delta_f=1./32.)\n",
    "wf2 = phenom.Waveform(approximant=\"IMRPhenomPv2_LAL\", m1=100, m2=10.1, chi1z=0.5, f_min=10, delta_f=1./32.)"
   ]
  },
  {
   "cell_type": "code",
   "execution_count": 19,
   "metadata": {
    "collapsed": true
   },
   "outputs": [],
   "source": [
    "ws1 = phenom.MakeWaveformSeries(wf1.flist_Hz, wf1.hptilde, wf1.hctilde)\n",
    "ws2 = phenom.MakeWaveformSeries(wf2.flist_Hz, wf2.hptilde, wf2.hctilde)"
   ]
  },
  {
   "cell_type": "code",
   "execution_count": 20,
   "metadata": {
    "collapsed": false
   },
   "outputs": [
    {
     "name": "stdout",
     "output_type": "stream",
     "text": [
      "[with psd] match =  0.941667400813\n"
     ]
    }
   ],
   "source": [
    "print \"[with psd] match = \", match.match(ws1, ws2, fmin=10, fmax=0, psd_fun=psd_fun)"
   ]
  },
  {
   "cell_type": "code",
   "execution_count": null,
   "metadata": {
    "collapsed": true
   },
   "outputs": [],
   "source": []
  },
  {
   "cell_type": "code",
   "execution_count": null,
   "metadata": {
    "collapsed": true
   },
   "outputs": [],
   "source": []
  },
  {
   "cell_type": "code",
   "execution_count": null,
   "metadata": {
    "collapsed": true
   },
   "outputs": [],
   "source": []
  },
  {
   "cell_type": "markdown",
   "metadata": {},
   "source": [
    "# try with lalsim"
   ]
  },
  {
   "cell_type": "code",
   "execution_count": 21,
   "metadata": {
    "collapsed": true
   },
   "outputs": [],
   "source": [
    "import lal\n",
    "import lalsimulation as lalsim"
   ]
  },
  {
   "cell_type": "code",
   "execution_count": null,
   "metadata": {
    "collapsed": false
   },
   "outputs": [],
   "source": []
  },
  {
   "cell_type": "code",
   "execution_count": 22,
   "metadata": {
    "collapsed": true
   },
   "outputs": [],
   "source": [
    "def make_lal_wf(m1=10., m2=10., chi1x=0., chi1y=0., chi1z=0., chi2x=0., chi2y=0., chi2z=0.,\n",
    "                delta_f=1./32., f_min=10., fRef=0., inclination=0.):\n",
    "    _lshp, _lshc = lalsim.SimInspiralChooseFDWaveform(0, delta_f, m1*lal.MSUN_SI, m2*lal.MSUN_SI,\n",
    "                    chi1x, chi1y, chi1z, chi2x, chi2y, chi2z, f_min, 0, fRef, 1e6*phenom.Constants.PC_SI, inclination,\n",
    "                    0, 0, None, None, -1, -1, lalsim.IMRPhenomPv2)    \n",
    "    flist = np.arange(_lshp.data.length) * _lshp.deltaF\n",
    "    lshp = _lshp.data.data\n",
    "    lshc = _lshc.data.data\n",
    "    return flist, lshp, lshc"
   ]
  },
  {
   "cell_type": "code",
   "execution_count": 23,
   "metadata": {
    "collapsed": false
   },
   "outputs": [],
   "source": [
    "lsf, lshp, lshc = make_lal_wf(m1=100, m2=10., chi1z=0.5, f_min=10, delta_f=1./32.)"
   ]
  },
  {
   "cell_type": "code",
   "execution_count": 24,
   "metadata": {
    "collapsed": false
   },
   "outputs": [],
   "source": [
    "lsf_1, lshp_1, lshc_1 = make_lal_wf(m1=100, m2=10.1, chi1z=0.5, f_min=10, delta_f=1./32.)"
   ]
  },
  {
   "cell_type": "code",
   "execution_count": 25,
   "metadata": {
    "collapsed": false
   },
   "outputs": [
    {
     "data": {
      "image/png": "[encoded data removed]",
      "text/plain": [
       "<matplotlib.figure.Figure at 0x10b6f2c50>"
      ]
     },
     "metadata": {},
     "output_type": "display_data"
    }
   ],
   "source": [
    "plt.figure()\n",
    "plt.plot(lsf, np.abs(lshp), label='[lal]hp')\n",
    "plt.plot(lsf_1, np.abs(lshp_1), label='[lal]hc_1')\n",
    "plt.legend(loc='best')\n",
    "plt.xscale('log')\n",
    "plt.yscale('log')\n",
    "plt.xlim(8,500);"
   ]
  },
  {
   "cell_type": "markdown",
   "metadata": {},
   "source": [
    "## try and use my match function with lal waveform"
   ]
  },
  {
   "cell_type": "markdown",
   "metadata": {},
   "source": [
    "first I need to make it so tat the lal data has the attributes needed by my match function."
   ]
  },
  {
   "cell_type": "code",
   "execution_count": 26,
   "metadata": {
    "collapsed": true
   },
   "outputs": [],
   "source": [
    "lalhp_wfseries = phenom.MakeWaveformSeries(lsf, lshp, lshc)\n",
    "lalhp_wfseries_1 = phenom.MakeWaveformSeries(lsf_1, lshp_1, lshc_1)"
   ]
  },
  {
   "cell_type": "code",
   "execution_count": 27,
   "metadata": {
    "collapsed": false
   },
   "outputs": [
    {
     "name": "stdout",
     "output_type": "stream",
     "text": [
      "[with psd] match = 0.94177511\n"
     ]
    }
   ],
   "source": [
    "print \"[with psd] match = {0:.8f}\".format(match.match(lalhp_wfseries, lalhp_wfseries_1, fmin=10, fmax=0, psd_fun=psd_fun))"
   ]
  },
  {
   "cell_type": "markdown",
   "metadata": {},
   "source": [
    "# try phenom vs lal - the mixed case"
   ]
  },
  {
   "cell_type": "code",
   "execution_count": 28,
   "metadata": {
    "collapsed": false
   },
   "outputs": [
    {
     "name": "stdout",
     "output_type": "stream",
     "text": [
      "[with psd] match = 0.94166738\n"
     ]
    }
   ],
   "source": [
    "print \"[with psd] match = {0:.8f}\".format(match.match(php1_wfs, lalhp_wfseries_1, fmin=10, fmax=0, psd_fun=psd_fun))"
   ]
  },
  {
   "cell_type": "markdown",
   "metadata": {
    "collapsed": true
   },
   "source": [
    "# phenom vs lal"
   ]
  },
  {
   "cell_type": "code",
   "execution_count": 41,
   "metadata": {
    "collapsed": true
   },
   "outputs": [],
   "source": [
    "def match_phenomP_vs_lal(**kwargs):\n",
    "    \n",
    "    #generate waveforms\n",
    "    php1 = phenom.PhenomP(**kwargs)\n",
    "    lsf, lshp, lshc = make_lal_wf(**kwargs)\n",
    "    \n",
    "    #turn into correct format\n",
    "    php1_wfs = phenom.MakeWaveformSeries(php1.flist_Hz, php1.hp, php1.hc)\n",
    "    lalhp_wfseries = phenom.MakeWaveformSeries(lsf, lshp, lshc)\n",
    "    \n",
    "    result = match.match(php1_wfs, lalhp_wfseries, fmin=10, fmax=0, psd_fun=psd_fun)\n",
    "    print \"\"\n",
    "    print \"[with psd] match = {0:.8f}\".format(result)\n",
    "    print \"percentage match = {0:.8f}\".format(result*100.)\n",
    "    print \"mismatch = {0:.8f}\".format(1.-result)\n",
    "    print \"percentage mismatch = {0:.8f}\".format((1.-result)*100.)\n",
    "\n",
    "    result = match.match(php1_wfs, lalhp_wfseries, fmin=10, fmax=0, psd_fun=None)\n",
    "    print \"\"\n",
    "    print \"[without psd] match = {0:.8f}\".format(result)\n",
    "    print \"percentage match = {0:.8f}\".format(result*100.)\n",
    "    print \"mismatch = {0:.8f}\".format(1.-result)\n",
    "    print \"percentage mismatch = {0:.8f}\".format((1.-result)*100.)"
   ]
  },
  {
   "cell_type": "code",
   "execution_count": 42,
   "metadata": {
    "collapsed": true
   },
   "outputs": [],
   "source": [
    "def make_param_dic_PhenP(m1, m2, chi1x, chi1y, chi1z, chi2x, chi2y, chi2z,\n",
    "                  f_min, fRef, delta_f, inclination):\n",
    "    input_params = {}\n",
    "    input_params.update({'m1' : m1})\n",
    "    input_params.update({'m2' : m2})\n",
    "    input_params.update({'chi1x' : chi1x})\n",
    "    input_params.update({'chi1y' : chi1y})\n",
    "    input_params.update({'chi1z' : chi1z})\n",
    "    input_params.update({'chi2x' : chi2x})\n",
    "    input_params.update({'chi2y' : chi2y})\n",
    "    input_params.update({'chi2z' : chi2z})\n",
    "    input_params.update({'f_min' : f_min})\n",
    "    input_params.update({'fRef' : fRef})\n",
    "    input_params.update({'inclination' : inclination})\n",
    "    input_params.update({'delta_f' : delta_f})\n",
    "    return input_params"
   ]
  },
  {
   "cell_type": "code",
   "execution_count": 43,
   "metadata": {
    "collapsed": true
   },
   "outputs": [],
   "source": [
    "input_params_PhenP = make_param_dic_PhenP(m1 = 23.1236,\n",
    "                              m2 = 179.231,\n",
    "                              chi1x = 0.1234,\n",
    "                              chi1y = 0.5321,\n",
    "                              chi1z = 0.2342,\n",
    "                              chi2x = 0.753,\n",
    "                              chi2y = 0.124,\n",
    "                              chi2z = -0.6235,\n",
    "                              f_min = 10.,\n",
    "                              fRef = 100.,\n",
    "                              delta_f = 1/128.,\n",
    "                              inclination = np.pi / 2.)"
   ]
  },
  {
   "cell_type": "code",
   "execution_count": 44,
   "metadata": {
    "collapsed": false
   },
   "outputs": [
    {
     "name": "stdout",
     "output_type": "stream",
     "text": [
      "\n",
      "[with psd] match = 0.99999995\n",
      "percentage match = 99.99999526\n",
      "mismatch = 0.00000005\n",
      "percentage mismatch = 0.00000474\n",
      "\n",
      "[without psd] match = 0.99999995\n",
      "percentage match = 99.99999495\n",
      "mismatch = 0.00000005\n",
      "percentage mismatch = 0.00000505\n"
     ]
    }
   ],
   "source": [
    "match_phenomP_vs_lal(**input_params_PhenP)"
   ]
  },
  {
   "cell_type": "markdown",
   "metadata": {},
   "source": [
    "OLD:####The matches are 99.99 percent between phenom and lal versions of phenomP####\n",
    "NEW!!!:\n",
    "FIXED!!! Now matches are > 99.999999 %\n",
    "Due to a minus sign in the t_corr variable!"
   ]
  },
  {
   "cell_type": "markdown",
   "metadata": {},
   "source": [
    "# double check the phenomD lal vs phenom results"
   ]
  },
  {
   "cell_type": "code",
   "execution_count": 45,
   "metadata": {
    "collapsed": true
   },
   "outputs": [],
   "source": [
    "def make_lal_wf_phenD(m1=10., m2=10., chi1z=0., chi2z=0.,\n",
    "                delta_f=1./32., f_min=10., fRef=0., inclination=0.):\n",
    "    _lshp, _lshc = lalsim.SimInspiralChooseFDWaveform(0, delta_f, m1*lal.MSUN_SI, m2*lal.MSUN_SI,\n",
    "                    0., 0., chi1z, 0., 0., chi2z, f_min, 0, fRef, 1e6*phenom.Constants.PC_SI, inclination,\n",
    "                    0, 0, None, None, -1, -1, lalsim.IMRPhenomD)    \n",
    "    flist = np.arange(_lshp.data.length) * _lshp.deltaF\n",
    "    lshp = _lshp.data.data\n",
    "    lshc = _lshc.data.data\n",
    "    return flist, lshp, lshc"
   ]
  },
  {
   "cell_type": "code",
   "execution_count": 46,
   "metadata": {
    "collapsed": true
   },
   "outputs": [],
   "source": [
    "def match_phenomD_vs_lal(**kwargs):\n",
    "    \n",
    "    ph1 = phenom.Waveform(approximant=\"IMRPhenomD\", **kwargs)\n",
    "    lsf, lshp, lshc = make_lal_wf_phenD(**kwargs)\n",
    "    \n",
    "    phenomhp_wfseries = phenom.MakeWaveformSeries(ph1.flist_Hz, ph1.hptilde, ph1.hctilde)\n",
    "    lalhp_wfseries = phenom.MakeWaveformSeries(lsf, lshp, lshc)\n",
    "    \n",
    "    result = match.match(phenomhp_wfseries, lalhp_wfseries, fmin=10, fmax=0, psd_fun=psd_fun)\n",
    "    print \"\"\n",
    "    print \"[with psd] match = {0:.8f}\".format(result)\n",
    "    print \"percentage match = {0:.8f}\".format(result*100.)\n",
    "    print \"mismatch = {0:.8f}\".format(1.-result)\n",
    "    print \"percentage mismatch = {0:.8f}\".format((1.-result)*100.)\n",
    "\n",
    "    result = match.match(phenomhp_wfseries, lalhp_wfseries, fmin=10, fmax=0, psd_fun=None)\n",
    "    print \"\"\n",
    "    print \"[without psd] match = {0:.8f}\".format(result)\n",
    "    print \"percentage match = {0:.8f}\".format(result*100.)\n",
    "    print \"mismatch = {0:.8f}\".format(1.-result)\n",
    "    print \"percentage mismatch = {0:.8f}\".format((1.-result)*100.)"
   ]
  },
  {
   "cell_type": "code",
   "execution_count": 47,
   "metadata": {
    "collapsed": true
   },
   "outputs": [],
   "source": [
    "def make_param_dic_PhenD(m1, m2, chi1z, chi2z,\n",
    "                  f_min, fRef, delta_f, inclination):\n",
    "    input_params = {}\n",
    "    input_params.update({'m1' : m1})\n",
    "    input_params.update({'m2' : m2})\n",
    "    input_params.update({'chi1z' : chi1z})\n",
    "    input_params.update({'chi2z' : chi2z})\n",
    "    input_params.update({'f_min' : f_min})\n",
    "    input_params.update({'fRef' : fRef})\n",
    "    input_params.update({'inclination' : inclination})\n",
    "    input_params.update({'delta_f' : delta_f})\n",
    "    return input_params"
   ]
  },
  {
   "cell_type": "code",
   "execution_count": 48,
   "metadata": {
    "collapsed": false
   },
   "outputs": [],
   "source": [
    "input_params_PhenD = make_param_dic_PhenD(m1 = 23.1236,\n",
    "                              m2 = 179.231,\n",
    "                              chi1z = 0.2342,\n",
    "                              chi2z = -0.6235,\n",
    "                              f_min = 10.,\n",
    "                              fRef = 100.,\n",
    "                              delta_f = 1/64.,\n",
    "                              inclination = np.pi / 2.)"
   ]
  },
  {
   "cell_type": "code",
   "execution_count": 49,
   "metadata": {
    "collapsed": false
   },
   "outputs": [
    {
     "name": "stdout",
     "output_type": "stream",
     "text": [
      "\n",
      "[with psd] match = 1.00000000\n",
      "percentage match = 100.00000000\n",
      "mismatch = 0.00000000\n",
      "percentage mismatch = 0.00000000\n",
      "\n",
      "[without psd] match = 1.00000000\n",
      "percentage match = 100.00000000\n",
      "mismatch = 0.00000000\n",
      "percentage mismatch = 0.00000000\n"
     ]
    }
   ],
   "source": [
    "match_phenomD_vs_lal(**input_params_PhenD)"
   ]
  },
  {
   "cell_type": "markdown",
   "metadata": {},
   "source": [
    "here we see the match is basically identically 1."
   ]
  },
  {
   "cell_type": "markdown",
   "metadata": {},
   "source": [
    "# compare phenom[phenomP, chip=0] with lal[phenomD]"
   ]
  },
  {
   "cell_type": "code",
   "execution_count": 50,
   "metadata": {
    "collapsed": false
   },
   "outputs": [
    {
     "data": {
      "text/plain": [
       "0.99999959586702303"
      ]
     },
     "execution_count": 50,
     "metadata": {},
     "output_type": "execute_result"
    }
   ],
   "source": [
    "input_params_PhenD = make_param_dic_PhenD(m1 = 23.1236,\n",
    "                              m2 = 179.231,\n",
    "                              chi1z = 0.2342,\n",
    "                              chi2z = -0.6235,\n",
    "                              f_min = 10.,\n",
    "                              fRef = 100.,\n",
    "                              delta_f = 1/64.,\n",
    "                              inclination = np.pi / 2.)\n",
    "\n",
    "input_params_PhenP = make_param_dic_PhenP(m1 = 23.1236,\n",
    "                              m2 = 179.231,\n",
    "                              chi1x = 0.,\n",
    "                              chi1y = 0.,\n",
    "                              chi1z = 0.2342,\n",
    "                              chi2x = 0.,\n",
    "                              chi2y = 0.,\n",
    "                              chi2z = -0.6235,\n",
    "                              f_min = 10.,\n",
    "                              fRef = 100.,\n",
    "                              delta_f = 1/64.,\n",
    "                              inclination = np.pi / 2.)\n",
    "\n",
    "\n",
    "ph1 = phenom.PhenomP(**input_params_PhenP)\n",
    "lsf, lshp, lshc = make_lal_wf_phenD(**input_params_PhenD)\n",
    "\n",
    "phenomhp_wfseries = phenom.MakeWaveformSeries(ph1.flist_Hz, ph1.hp, ph1.hc)\n",
    "lalhp_wfseries = phenom.MakeWaveformSeries(lsf, lshp, lshc)\n",
    "\n",
    "match.match(phenomhp_wfseries, lalhp_wfseries, fmin=10, fmax=0, psd_fun=psd_fun)\n"
   ]
  },
  {
   "cell_type": "markdown",
   "metadata": {},
   "source": [
    "# compare phenom[phenomD] with lal[phenomP, chip=0]"
   ]
  },
  {
   "cell_type": "code",
   "execution_count": 51,
   "metadata": {
    "collapsed": false
   },
   "outputs": [
    {
     "data": {
      "text/plain": [
       "0.99999959572510744"
      ]
     },
     "execution_count": 51,
     "metadata": {},
     "output_type": "execute_result"
    }
   ],
   "source": [
    "input_params_PhenD = make_param_dic_PhenD(m1 = 23.1236,\n",
    "                              m2 = 179.231,\n",
    "                              chi1z = 0.2342,\n",
    "                              chi2z = -0.6235,\n",
    "                              f_min = 10.,\n",
    "                              fRef = 100.,\n",
    "                              delta_f = 1/64.,\n",
    "                              inclination = np.pi / 2.)\n",
    "\n",
    "input_params_PhenP = make_param_dic_PhenP(m1 = 23.1236,\n",
    "                              m2 = 179.231,\n",
    "                              chi1x = 0.,\n",
    "                              chi1y = 0.,\n",
    "                              chi1z = 0.2342,\n",
    "                              chi2x = 0.,\n",
    "                              chi2y = 0.,\n",
    "                              chi2z = -0.6235,\n",
    "                              f_min = 10.,\n",
    "                              fRef = 100.,\n",
    "                              delta_f = 1/64.,\n",
    "                              inclination = np.pi / 2.)\n",
    "\n",
    "\n",
    "ph1 = phenom.Waveform(approximant=\"IMRPhenomD\", **input_params_PhenP)\n",
    "lsf, lshp, lshc = make_lal_wf(**input_params_PhenP)\n",
    "\n",
    "phenomhp_wfseries = phenom.MakeWaveformSeries(ph1.flist_Hz, ph1.hptilde, ph1.hctilde)\n",
    "lalhp_wfseries = phenom.MakeWaveformSeries(lsf, lshp, lshc)\n",
    "\n",
    "match.match(phenomhp_wfseries, lalhp_wfseries, fmin=10, fmax=0, psd_fun=psd_fun)\n"
   ]
  },
  {
   "cell_type": "code",
   "execution_count": null,
   "metadata": {
    "collapsed": true
   },
   "outputs": [],
   "source": []
  }
 ],
 "metadata": {
  "kernelspec": {
   "display_name": "Python 2",
   "language": "python",
   "name": "python2"
  },
  "language_info": {
   "codemirror_mode": {
    "name": "ipython",
    "version": 2
   },
   "file_extension": ".py",
   "mimetype": "text/x-python",
   "name": "python",
   "nbconvert_exporter": "python",
   "pygments_lexer": "ipython2",
   "version": "2.7.11"
  },
  "toc": {
   "toc_cell": true,
   "toc_number_sections": true,
   "toc_threshold": 6,
   "toc_window_display": false
  }
 },
 "nbformat": 4,
 "nbformat_minor": 0
}
