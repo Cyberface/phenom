{
 "cells": [
  {
   "cell_type": "markdown",
   "metadata": {
    "toc": "true"
   },
   "source": [
    "# Table of Contents\n",
    " <p><div class=\"lev1\"><a href=\"#compare-the-initial-condition-functions---phenom-vs.-LAL-1\"><span class=\"toc-item-num\">1&nbsp;&nbsp;</span>compare the initial condition functions - phenom vs. LAL</a></div><div class=\"lev2\"><a href=\"#XLALSimInspiralInitialConditionsPrecessingApproxs-1.1\"><span class=\"toc-item-num\">1.1&nbsp;&nbsp;</span>XLALSimInspiralInitialConditionsPrecessingApproxs</a></div><div class=\"lev2\"><a href=\"#XLALSimIMRPhenomPCalculateModelParameters-1.2\"><span class=\"toc-item-num\">1.2&nbsp;&nbsp;</span>XLALSimIMRPhenomPCalculateModelParameters</a></div>"
   ]
  },
  {
   "cell_type": "markdown",
   "metadata": {},
   "source": [
    "# compare the initial condition functions - phenom vs. LAL"
   ]
  },
  {
   "cell_type": "code",
   "execution_count": 2,
   "metadata": {
    "collapsed": false
   },
   "outputs": [],
   "source": [
    "import lal\n",
    "import lalsimulation as lalsim"
   ]
  },
  {
   "cell_type": "code",
   "execution_count": null,
   "metadata": {
    "collapsed": true
   },
   "outputs": [],
   "source": []
  },
  {
   "cell_type": "markdown",
   "metadata": {},
   "source": [
    "## XLALSimInspiralInitialConditionsPrecessingApproxs"
   ]
  },
  {
   "cell_type": "code",
   "execution_count": 86,
   "metadata": {
    "collapsed": false
   },
   "outputs": [
    {
     "data": {
      "text/plain": [
       "2"
      ]
     },
     "execution_count": 86,
     "metadata": {},
     "output_type": "execute_result"
    }
   ],
   "source": [
    "lalsim.SIM_INSPIRAL_FRAME_AXIS_ORBITAL_L"
   ]
  },
  {
   "cell_type": "code",
   "execution_count": 87,
   "metadata": {
    "collapsed": false
   },
   "outputs": [
    {
     "data": {
      "text/plain": [
       "True"
      ]
     },
     "execution_count": 87,
     "metadata": {},
     "output_type": "execute_result"
    }
   ],
   "source": [
    "lalsim.SimInspiralFrameAxisIsDefault(lalsim.SIM_INSPIRAL_FRAME_AXIS_ORBITAL_L)"
   ]
  },
  {
   "cell_type": "code",
   "execution_count": 91,
   "metadata": {
    "collapsed": true
   },
   "outputs": [],
   "source": [
    "def lal_prec_ic(inclIn = 0.,\n",
    "               S1xIn = 0.35,\n",
    "               S1yIn = 0.132,\n",
    "               S1zIn = -0.24,\n",
    "               S2xIn = 0.12,\n",
    "               S2yIn = 0.09,\n",
    "               S2zIn = 0.334,\n",
    "               m1_SI = 24.567,\n",
    "               m2_SI = 13.529,\n",
    "               f_ref = 14.23,\n",
    "               axisChoice = lalsim.SIM_INSPIRAL_FRAME_AXIS_ORBITAL_L):\n",
    "    inc, S1x,S1y,S1z,S2x,S2y,S2z = lalsim.SimInspiralInitialConditionsPrecessingApproxs(inclIn,S1xIn,S1yIn,S1zIn,S2xIn,S2yIn,S2zIn,m1_SI,m2_SI,f_ref,axisChoice)\n",
    "        \n",
    "    out = {}\n",
    "    out = {\"inc\":inc,\"S1x\":S1x,\"S1y\":S1y,\"S1z\":S1z,\"S2x\":S2x,\"S2y\":S2y,\"S2z\":S2z}\n",
    "    return out"
   ]
  },
  {
   "cell_type": "code",
   "execution_count": 125,
   "metadata": {
    "collapsed": true
   },
   "outputs": [],
   "source": [
    "def setup_input_PrecIC(\n",
    "               inclIn = 0.,\n",
    "               S1xIn = 0.,\n",
    "               S1yIn = 0.,\n",
    "               S1zIn = 0.1,\n",
    "               S2xIn = 0.,\n",
    "               S2yIn = 0.,\n",
    "               S2zIn = 0.,\n",
    "               m1_SI = 24.567,\n",
    "               m2_SI = 13.529,\n",
    "               f_ref = 14.23,\n",
    "               axisChoice = lalsim.SIM_INSPIRAL_FRAME_AXIS_ORBITAL_L):\n",
    "    #locals() is a dictionary\n",
    "    return locals()"
   ]
  },
  {
   "cell_type": "code",
   "execution_count": 126,
   "metadata": {
    "collapsed": false
   },
   "outputs": [
    {
     "name": "stdout",
     "output_type": "stream",
     "text": [
      "m1_SI = 24.567\n",
      "S2zIn = 0.0\n",
      "S1zIn = 0.1\n",
      "S2yIn = 0.0\n",
      "inclIn = 1.57079632679\n",
      "axisChoice = 2\n",
      "f_ref = 14.23\n",
      "S2xIn = 0.0\n",
      "S1xIn = 0.0\n",
      "m2_SI = 13.529\n",
      "S1yIn = 0.0\n",
      "\n",
      "S1xIn = 0.0\n",
      "S1yIn = 0.0\n",
      "S1zIn = 0.1\n"
     ]
    }
   ],
   "source": [
    "input_params_PrecIC = setup_input_PrecIC(inclIn=90.*lal.PI/180.)\n",
    "for key, val in input_params_PrecIC.items():\n",
    "    print \"{0} = {1}\".format(key, val)\n",
    "\n",
    "print \"\"\n",
    "print \"S1xIn = {0}\".format(input_params_PrecIC['S1xIn'])\n",
    "print \"S1yIn = {0}\".format(input_params_PrecIC['S1yIn'])\n",
    "print \"S1zIn = {0}\".format(input_params_PrecIC['S1zIn'])"
   ]
  },
  {
   "cell_type": "code",
   "execution_count": 127,
   "metadata": {
    "collapsed": false
   },
   "outputs": [
    {
     "data": {
      "text/plain": [
       "{'S1x': 0.1,\n",
       " 'S1y': 0.0,\n",
       " 'S1z': 6.123233995736766e-18,\n",
       " 'S2x': 0.0,\n",
       " 'S2y': 0.0,\n",
       " 'S2z': 0.0,\n",
       " 'inc': 1.5707963267948966}"
      ]
     },
     "execution_count": 127,
     "metadata": {},
     "output_type": "execute_result"
    }
   ],
   "source": [
    "lal_prec_ic(**input_params_PrecIC)"
   ]
  },
  {
   "cell_type": "code",
   "execution_count": null,
   "metadata": {
    "collapsed": true
   },
   "outputs": [],
   "source": []
  },
  {
   "cell_type": "markdown",
   "metadata": {},
   "source": [
    "## XLALSimIMRPhenomPCalculateModelParameters"
   ]
  },
  {
   "cell_type": "code",
   "execution_count": 6,
   "metadata": {
    "collapsed": false
   },
   "outputs": [
    {
     "name": "stdout",
     "output_type": "stream",
     "text": [
      "Help on built-in function SimIMRPhenomPCalculateModelParameters in module _lalsimulation:\n",
      "\n",
      "SimIMRPhenomPCalculateModelParameters(...)\n",
      "    SimIMRPhenomPCalculateModelParameters(REAL8 const m1_SI, REAL8 const m2_SI, REAL8 const f_ref, REAL8 const lnhatx, REAL8 const lnhaty, REAL8 const lnhatz, REAL8 const s1x, REAL8 const s1y, REAL8 const s1z, REAL8 const s2x, REAL8 const s2y, REAL8 const s2z, IMRPhenomP_version_type IMRPhenomP_version) -> int\n",
      "\n"
     ]
    }
   ],
   "source": [
    "help(lalsim.SimIMRPhenomPCalculateModelParameters)"
   ]
  },
  {
   "cell_type": "code",
   "execution_count": 9,
   "metadata": {
    "collapsed": false
   },
   "outputs": [
    {
     "data": {
      "text/plain": [
       "0"
      ]
     },
     "execution_count": 9,
     "metadata": {},
     "output_type": "execute_result"
    }
   ],
   "source": [
    "lalsim.IMRPhenomPv1_V"
   ]
  },
  {
   "cell_type": "code",
   "execution_count": 165,
   "metadata": {
    "collapsed": false
   },
   "outputs": [],
   "source": [
    "def lal_ic(m1_SI, m2_SI, f_ref, lnhatx, lnhaty, lnhatz, s1x, s1y, s1z, s2x, s2y, s2z, version):\n",
    "    chi1_l, chi2_l, chip, thetaJ, alpha0 = lalsim.SimIMRPhenomPCalculateModelParameters(m1_SI, m2_SI,\\\n",
    "                                                            f_ref,\\\n",
    "                                                            lnhatx, lnhaty, lnhatz,\\\n",
    "                                                            s1x, s1y, s1z,\\\n",
    "                                                            s2x, s2y, s2z,\\\n",
    "                                                            version)\n",
    "        \n",
    "    out = {}\n",
    "    out = {\"chi1_l\" : chi1_l, \"chi2_l\" : chi2_l, \"chip\" : chip, \"thetaJ\" : thetaJ, \"alpha0\" : alpha0}\n",
    "    return out"
   ]
  },
  {
   "cell_type": "code",
   "execution_count": 166,
   "metadata": {
    "collapsed": false
   },
   "outputs": [],
   "source": [
    "def setup_input(m1_SI = 24.567,\n",
    "               m2_SI = 13.529,\n",
    "               f_ref = 14.23,\n",
    "               lnhatx = 0.,\n",
    "               lnhaty = 0.,\n",
    "               lnhatz = 1.,\n",
    "               s1x = 0.35,\n",
    "               s1y = 0.132,\n",
    "               s1z = -0.24,\n",
    "               s2x = 0.12,\n",
    "               s2y = 0.09,\n",
    "               s2z = 0.334,\n",
    "               version = lalsim.IMRPhenomPv2_V):\n",
    "    #locals() is a dictionary\n",
    "    return locals()"
   ]
  },
  {
   "cell_type": "code",
   "execution_count": 167,
   "metadata": {
    "collapsed": true
   },
   "outputs": [],
   "source": [
    "import numpy as np"
   ]
  },
  {
   "cell_type": "code",
   "execution_count": 268,
   "metadata": {
    "collapsed": false
   },
   "outputs": [
    {
     "name": "stdout",
     "output_type": "stream",
     "text": [
      "m1_SI = 1.98854695496e+30\n",
      "s1z = 0.0\n",
      "s1y = 0.0\n",
      "s1x = 0.0\n",
      "lnhaty = 0.0\n",
      "lnhatx = 0.999847695156\n",
      "lnhatz = 0.0174524064373\n",
      "f_ref = 14.23\n",
      "version = 1\n",
      "m2_SI = 3.97709390992e+30\n",
      "s2z = 0.0\n",
      "s2x = 0.5\n",
      "s2y = 0.0\n"
     ]
    }
   ],
   "source": [
    "inc = 89.*lal.PI/180.\n",
    "input_params = setup_input(m1_SI=1*lal.MSUN_SI, m2_SI=2*lal.MSUN_SI,\n",
    "                           s1x=0., s1y=0., s1z=0.,\n",
    "                           s2x=0.5, s2y=0., s2z=0.,\n",
    "                           lnhatx=np.sin(inc), lnhatz=np.cos(inc))\n",
    "for key, val in input_params.items():\n",
    "    print \"{0} = {1}\".format(key, val)"
   ]
  },
  {
   "cell_type": "code",
   "execution_count": 269,
   "metadata": {
    "collapsed": false
   },
   "outputs": [
    {
     "name": "stdout",
     "output_type": "stream",
     "text": [
      "thetaJ = 1.554726193\n",
      "chip = 0.00872620321864\n",
      "chi2_l = 0.499923847578\n",
      "chi1_l = 0.0\n",
      "alpha0 = 0.0\n"
     ]
    }
   ],
   "source": [
    "out = lal_ic(**input_params)\n",
    "for key, val in out.items():\n",
    "    print \"{0} = {1}\".format(key, val)"
   ]
  },
  {
   "cell_type": "code",
   "execution_count": 270,
   "metadata": {
    "collapsed": false
   },
   "outputs": [
    {
     "data": {
      "text/plain": [
       "89.07924915711118"
      ]
     },
     "execution_count": 270,
     "metadata": {},
     "output_type": "execute_result"
    }
   ],
   "source": [
    "out['thetaJ'] * 180./lal.PI"
   ]
  },
  {
   "cell_type": "code",
   "execution_count": null,
   "metadata": {
    "collapsed": true
   },
   "outputs": [],
   "source": []
  },
  {
   "cell_type": "code",
   "execution_count": null,
   "metadata": {
    "collapsed": true
   },
   "outputs": [],
   "source": []
  }
 ],
 "metadata": {
  "kernelspec": {
   "display_name": "Python 2",
   "language": "python",
   "name": "python2"
  },
  "language_info": {
   "codemirror_mode": {
    "name": "ipython",
    "version": 2
   },
   "file_extension": ".py",
   "mimetype": "text/x-python",
   "name": "python",
   "nbconvert_exporter": "python",
   "pygments_lexer": "ipython2",
   "version": "2.7.11"
  },
  "toc": {
   "toc_cell": true,
   "toc_number_sections": true,
   "toc_threshold": 6,
   "toc_window_display": false
  }
 },
 "nbformat": 4,
 "nbformat_minor": 0
}
