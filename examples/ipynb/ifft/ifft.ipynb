{
 "cells": [
  {
   "cell_type": "markdown",
   "metadata": {
    "toc": "true"
   },
   "source": [
    "# Table of Contents\n",
    " <p><div class=\"lev2\"><a href=\"#function-to-call-lal-waveform-0.1\"><span class=\"toc-item-num\">0.1&nbsp;&nbsp;</span>function to call lal waveform</a></div>"
   ]
  },
  {
   "cell_type": "code",
   "execution_count": 1,
   "metadata": {
    "collapsed": true
   },
   "outputs": [],
   "source": [
    "import numpy as np\n",
    "%matplotlib inline\n",
    "import matplotlib.pyplot as plt"
   ]
  },
  {
   "cell_type": "code",
   "execution_count": 2,
   "metadata": {
    "collapsed": true
   },
   "outputs": [],
   "source": [
    "import lal"
   ]
  },
  {
   "cell_type": "code",
   "execution_count": 3,
   "metadata": {
    "collapsed": true
   },
   "outputs": [],
   "source": [
    "import lalsimulation as lalsim"
   ]
  },
  {
   "cell_type": "code",
   "execution_count": 13,
   "metadata": {
    "collapsed": true
   },
   "outputs": [],
   "source": [
    "import phenom"
   ]
  },
  {
   "cell_type": "markdown",
   "metadata": {},
   "source": [
    "## function to call lal waveform"
   ]
  },
  {
   "cell_type": "code",
   "execution_count": 28,
   "metadata": {
    "collapsed": true
   },
   "outputs": [],
   "source": [
    "def get_lal_wf(domain='FD', m1=8., m2=8., chi1x=0.9, chi1z=0., chi2z=0., fmin=10., fRef=0., inclination=0., df=1./64., dt=1.):\n",
    "\n",
    "    \n",
    "    if domain == 'FD':\n",
    "    \n",
    "        #compute lal\n",
    "        _lshp, _lshc = lalsim.SimInspiralChooseFDWaveform(0, df,\n",
    "                                                        m1*lal.MSUN_SI, m2*lal.MSUN_SI,\n",
    "                                                        chi1x, 0, chi1z,\n",
    "                                                        0, 0, chi2z,\n",
    "                                                        f_min, 0, fRef,\n",
    "                                                        1e6*phenom.Constants.PC_SI,\n",
    "                                                        inclination,\n",
    "                                                        0, 0,\n",
    "                                                        None, None,\n",
    "                                                        -1, -1,\n",
    "                                                        lalsim.IMRPhenomPv2)\n",
    "\n",
    "        lsf = (np.arange(_lshp.data.length) * _lshp.deltaF)\n",
    "        lshp = (_lshp.data.data)\n",
    "        lshc = (_lshc.data.data)\n",
    "        return lsf, lshp, lshc\n",
    "        \n",
    "    elif domain == 'TD':\n",
    "        #compute lal\n",
    "        _lshp, _lshc = lalsim.SimInspiralChooseTDWaveform(0, dt,\n",
    "                                                        m1*lal.MSUN_SI, m2*lal.MSUN_SI,\n",
    "                                                        chi1x, 0, chi1z,\n",
    "                                                        0, 0, chi2z,\n",
    "                                                        f_min, fRef,\n",
    "                                                        1e6*phenom.Constants.PC_SI,\n",
    "                                                        inclination,\n",
    "                                                        0, 0,\n",
    "                                                        None, None,\n",
    "                                                        -1, -1,\n",
    "                                                        lalsim.IMRPhenomPv2)\n",
    "\n",
    "\n",
    "        \n",
    "        lst = (np.arange(_lshp.data.length) * _lshp.deltaT)\n",
    "        lshp = (_lshp.data.data)\n",
    "        lshc = (_lshc.data.data)\n",
    "        return lst, lshp, lshc"
   ]
  },
  {
   "cell_type": "code",
   "execution_count": 29,
   "metadata": {
    "collapsed": false
   },
   "outputs": [
    {
     "ename": "NameError",
     "evalue": "global name 'f_min' is not defined",
     "output_type": "error",
     "traceback": [
      "\u001b[0;31m----------------------------------------------------------------------\u001b[0m",
      "\u001b[0;31mNameError\u001b[0m                            Traceback (most recent call last)",
      "\u001b[0;32m<ipython-input-29-207e59ae44d4>\u001b[0m in \u001b[0;36m<module>\u001b[0;34m()\u001b[0m\n\u001b[0;32m----> 1\u001b[0;31m \u001b[0mget_lal_wf\u001b[0m\u001b[0;34m(\u001b[0m\u001b[0mdomain\u001b[0m\u001b[0;34m=\u001b[0m\u001b[0;34m'TD'\u001b[0m\u001b[0;34m)\u001b[0m\u001b[0;34m\u001b[0m\u001b[0m\n\u001b[0m",
      "\u001b[0;32m<ipython-input-28-5dce4314010d>\u001b[0m in \u001b[0;36mget_lal_wf\u001b[0;34m(domain, m1, m2, chi1x, chi1z, chi2z, fmin, fRef, inclination, df, dt)\u001b[0m\n\u001b[1;32m     28\u001b[0m                                                         \u001b[0mchi1x\u001b[0m\u001b[0;34m,\u001b[0m \u001b[0;36m0\u001b[0m\u001b[0;34m,\u001b[0m \u001b[0mchi1z\u001b[0m\u001b[0;34m,\u001b[0m\u001b[0;34m\u001b[0m\u001b[0m\n\u001b[1;32m     29\u001b[0m                                                         \u001b[0;36m0\u001b[0m\u001b[0;34m,\u001b[0m \u001b[0;36m0\u001b[0m\u001b[0;34m,\u001b[0m \u001b[0mchi2z\u001b[0m\u001b[0;34m,\u001b[0m\u001b[0;34m\u001b[0m\u001b[0m\n\u001b[0;32m---> 30\u001b[0;31m                                                         \u001b[0mf_min\u001b[0m\u001b[0;34m,\u001b[0m \u001b[0mfRef\u001b[0m\u001b[0;34m,\u001b[0m\u001b[0;34m\u001b[0m\u001b[0m\n\u001b[0m\u001b[1;32m     31\u001b[0m                                                         \u001b[0;36m1e6\u001b[0m\u001b[0;34m*\u001b[0m\u001b[0mphenom\u001b[0m\u001b[0;34m.\u001b[0m\u001b[0mConstants\u001b[0m\u001b[0;34m.\u001b[0m\u001b[0mPC_SI\u001b[0m\u001b[0;34m,\u001b[0m\u001b[0;34m\u001b[0m\u001b[0m\n\u001b[1;32m     32\u001b[0m                                                         \u001b[0minclination\u001b[0m\u001b[0;34m,\u001b[0m\u001b[0;34m\u001b[0m\u001b[0m\n",
      "\u001b[0;31mNameError\u001b[0m: global name 'f_min' is not defined"
     ]
    }
   ],
   "source": [
    "get_lal_wf(domain='TD')"
   ]
  },
  {
   "cell_type": "code",
   "execution_count": 40,
   "metadata": {
    "collapsed": true
   },
   "outputs": [],
   "source": [
    "def callTDwaveform(phiRef,\n",
    "                   deltaT,\n",
    "                   m1_SI, m2_SI,\n",
    "                   chi1x, chi1y, chi1z, chi2x, chi2y, chi2z,\n",
    "                   f_min, f_ref,\n",
    "                   r,\n",
    "                   inc,\n",
    "                   lambda1, lambda2, waveFlags, nonGRparams,\n",
    "                   amplitudeO, phaseO,\n",
    "                   approx):\n",
    "\n",
    "    approximant = lalsim.GetApproximantFromString(approx)\n",
    "    \n",
    "    hp, hc = lalsim.SimInspiralChooseTDWaveform(phiRef,\n",
    "                                            deltaT,\n",
    "                                            m1_SI, m2_SI,\n",
    "                                            chi1x, chi1y, chi1z, chi2x, chi2y, chi2z,\n",
    "                                            f_min, f_ref,\n",
    "                                            r,\n",
    "                                            inc,\n",
    "                                            lambda1, lambda2, waveFlags, nonGRparams,\n",
    "                                            amplitudeO, phaseO,\n",
    "                                            approximant)\n",
    "    t = np.arange(hp.data.length) * hp.deltaT\n",
    "    #convert to units of total mass (dimensionless)\n",
    "    t = phenom.StoM(t, self.M)\n",
    "    hp = hp.data.data\n",
    "    hc = hc.data.data\n",
    "    return t, hp, hc"
   ]
  },
  {
   "cell_type": "code",
   "execution_count": 41,
   "metadata": {
    "collapsed": false
   },
   "outputs": [
    {
     "ename": "RuntimeError",
     "evalue": "Internal function call failed: Invalid argument",
     "output_type": "error",
     "traceback": [
      "\u001b[0;31m----------------------------------------------------------------------\u001b[0m",
      "\u001b[0;31mRuntimeError\u001b[0m                         Traceback (most recent call last)",
      "\u001b[0;32m<ipython-input-41-fd64673585ca>\u001b[0m in \u001b[0;36m<module>\u001b[0;34m()\u001b[0m\n\u001b[0;32m----> 1\u001b[0;31m \u001b[0mcallTDwaveform\u001b[0m\u001b[0;34m(\u001b[0m\u001b[0;36m0\u001b[0m\u001b[0;34m,\u001b[0m \u001b[0;36m1.\u001b[0m\u001b[0;34m,\u001b[0m \u001b[0;36m10\u001b[0m\u001b[0;34m*\u001b[0m\u001b[0mlal\u001b[0m\u001b[0;34m.\u001b[0m\u001b[0mMSUN_SI\u001b[0m\u001b[0;34m,\u001b[0m \u001b[0;36m10\u001b[0m\u001b[0;34m*\u001b[0m\u001b[0mlal\u001b[0m\u001b[0;34m.\u001b[0m\u001b[0mMSUN_SI\u001b[0m\u001b[0;34m,\u001b[0m \u001b[0;36m0\u001b[0m\u001b[0;34m,\u001b[0m\u001b[0;36m0\u001b[0m\u001b[0;34m,\u001b[0m\u001b[0;36m0\u001b[0m\u001b[0;34m,\u001b[0m \u001b[0;36m0\u001b[0m\u001b[0;34m,\u001b[0m\u001b[0;36m0\u001b[0m\u001b[0;34m,\u001b[0m\u001b[0;36m0\u001b[0m\u001b[0;34m,\u001b[0m \u001b[0;36m30\u001b[0m\u001b[0;34m,\u001b[0m \u001b[0;36m30\u001b[0m\u001b[0;34m,\u001b[0m \u001b[0;36m1e6\u001b[0m\u001b[0;34m*\u001b[0m\u001b[0mphenom\u001b[0m\u001b[0;34m.\u001b[0m\u001b[0mConstants\u001b[0m\u001b[0;34m.\u001b[0m\u001b[0mPC_SI\u001b[0m\u001b[0;34m,\u001b[0m \u001b[0;36m0\u001b[0m\u001b[0;34m,\u001b[0m \u001b[0;34m-\u001b[0m\u001b[0;36m1\u001b[0m\u001b[0;34m,\u001b[0m \u001b[0;34m-\u001b[0m\u001b[0;36m1\u001b[0m\u001b[0;34m,\u001b[0m \u001b[0mNone\u001b[0m\u001b[0;34m,\u001b[0m \u001b[0mNone\u001b[0m\u001b[0;34m,\u001b[0m \u001b[0;34m-\u001b[0m\u001b[0;36m1\u001b[0m\u001b[0;34m,\u001b[0m \u001b[0;34m-\u001b[0m\u001b[0;36m1\u001b[0m\u001b[0;34m,\u001b[0m \u001b[0;34m\"IMRPhenomPv2\"\u001b[0m\u001b[0;34m)\u001b[0m\u001b[0;34m\u001b[0m\u001b[0m\n\u001b[0m",
      "\u001b[0;32m<ipython-input-40-070094043ec3>\u001b[0m in \u001b[0;36mcallTDwaveform\u001b[0;34m(phiRef, deltaT, m1_SI, m2_SI, chi1x, chi1y, chi1z, chi2x, chi2y, chi2z, f_min, f_ref, r, inc, lambda1, lambda2, waveFlags, nonGRparams, amplitudeO, phaseO, approx)\u001b[0m\n\u001b[1;32m     21\u001b[0m                                             \u001b[0mlambda1\u001b[0m\u001b[0;34m,\u001b[0m \u001b[0mlambda2\u001b[0m\u001b[0;34m,\u001b[0m \u001b[0mwaveFlags\u001b[0m\u001b[0;34m,\u001b[0m \u001b[0mnonGRparams\u001b[0m\u001b[0;34m,\u001b[0m\u001b[0;34m\u001b[0m\u001b[0m\n\u001b[1;32m     22\u001b[0m                                             \u001b[0mamplitudeO\u001b[0m\u001b[0;34m,\u001b[0m \u001b[0mphaseO\u001b[0m\u001b[0;34m,\u001b[0m\u001b[0;34m\u001b[0m\u001b[0m\n\u001b[0;32m---> 23\u001b[0;31m                                             approximant)\n\u001b[0m\u001b[1;32m     24\u001b[0m     \u001b[0mt\u001b[0m \u001b[0;34m=\u001b[0m \u001b[0mnp\u001b[0m\u001b[0;34m.\u001b[0m\u001b[0marange\u001b[0m\u001b[0;34m(\u001b[0m\u001b[0mhp\u001b[0m\u001b[0;34m.\u001b[0m\u001b[0mdata\u001b[0m\u001b[0;34m.\u001b[0m\u001b[0mlength\u001b[0m\u001b[0;34m)\u001b[0m \u001b[0;34m*\u001b[0m \u001b[0mhp\u001b[0m\u001b[0;34m.\u001b[0m\u001b[0mdeltaT\u001b[0m\u001b[0;34m\u001b[0m\u001b[0m\n\u001b[1;32m     25\u001b[0m     \u001b[0;31m#convert to units of total mass (dimensionless)\u001b[0m\u001b[0;34m\u001b[0m\u001b[0;34m\u001b[0m\u001b[0m\n",
      "\u001b[0;31mRuntimeError\u001b[0m: Internal function call failed: Invalid argument"
     ]
    }
   ],
   "source": [
    "callTDwaveform(0, 1., 10*lal.MSUN_SI, 10*lal.MSUN_SI, 0,0,0, 0,0,0, 30, 30, 1e6*phenom.Constants.PC_SI, 0, -1, -1, None, None, -1, -1, \"IMRPhenomPv2\")"
   ]
  },
  {
   "cell_type": "code",
   "execution_count": null,
   "metadata": {
    "collapsed": true
   },
   "outputs": [],
   "source": []
  }
 ],
 "metadata": {
  "kernelspec": {
   "display_name": "Python 2",
   "language": "python",
   "name": "python2"
  },
  "language_info": {
   "codemirror_mode": {
    "name": "ipython",
    "version": 2
   },
   "file_extension": ".py",
   "mimetype": "text/x-python",
   "name": "python",
   "nbconvert_exporter": "python",
   "pygments_lexer": "ipython2",
   "version": "2.7.11"
  },
  "toc": {
   "toc_cell": true,
   "toc_number_sections": true,
   "toc_threshold": 6,
   "toc_window_display": false
  }
 },
 "nbformat": 4,
 "nbformat_minor": 0
}
