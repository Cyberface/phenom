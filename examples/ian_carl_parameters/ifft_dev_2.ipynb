{
 "cells": [
  {
   "cell_type": "markdown",
   "metadata": {
    "toc": "true"
   },
   "source": [
    "# Table of Contents\n",
    " <p><div class=\"lev2\"><a href=\"#imports-0.1\"><span class=\"toc-item-num\">0.1&nbsp;&nbsp;</span>imports</a></div><div class=\"lev2\"><a href=\"#TD-EOB-0.2\"><span class=\"toc-item-num\">0.2&nbsp;&nbsp;</span>TD EOB</a></div><div class=\"lev3\"><a href=\"#def-ifft2-0.2.1\"><span class=\"toc-item-num\">0.2.1&nbsp;&nbsp;</span>def ifft2</a></div>"
   ]
  },
  {
   "cell_type": "markdown",
   "metadata": {},
   "source": [
    "## imports"
   ]
  },
  {
   "cell_type": "code",
   "execution_count": 1,
   "metadata": {
    "collapsed": true
   },
   "outputs": [],
   "source": [
    "import matplotlib\n",
    "%matplotlib inline\n",
    "import matplotlib.pyplot as plt\n",
    "\n",
    "import phenom\n",
    "import numpy as np\n",
    "\n",
    "import lal\n",
    "import lalsimulation as lalsim\n",
    "\n",
    "import myfft as fft\n",
    "from helpers import *\n"
   ]
  },
  {
   "cell_type": "markdown",
   "metadata": {},
   "source": [
    "## TD EOB"
   ]
  },
  {
   "cell_type": "code",
   "execution_count": 300,
   "metadata": {
    "collapsed": true
   },
   "outputs": [],
   "source": [
    "t={}; hp={}; hc={};\n",
    "f={}; hptilde={}; hctilde={};\n",
    "\n",
    "# t['lal'], hp['lal'], hc['lal'] = CallTDWaveform(approx=\"SEOBNRv3\", chi1x=0.5, iota=0.,\n",
    "#                                                 eta=0.16, srate=2**10, f_min=10., f_ref=10.)\n",
    "t['lal'], hp['lal'], hc['lal'] = CallTDWaveform(approx=\"IMRPhenomPv2\", chi1x=0., iota=0.,\n",
    "                                                eta=0.16, srate=2**10, f_min=5., f_ref=10.)"
   ]
  },
  {
   "cell_type": "code",
   "execution_count": 301,
   "metadata": {
    "collapsed": false
   },
   "outputs": [
    {
     "data": {
      "text/plain": [
       "[<matplotlib.lines.Line2D at 0x11d3a8790>]"
      ]
     },
     "execution_count": 301,
     "metadata": {},
     "output_type": "execute_result"
    },
    {
     "data": {
      "image/png": "[encoded data removed]",
      "text/plain": [
       "<matplotlib.figure.Figure at 0x11d5cf510>"
      ]
     },
     "metadata": {},
     "output_type": "display_data"
    }
   ],
   "source": [
    "plt.figure()\n",
    "plt.plot( t['lal'] , np.real( hp['lal'] ) )"
   ]
  },
  {
   "cell_type": "code",
   "execution_count": 302,
   "metadata": {
    "collapsed": false
   },
   "outputs": [],
   "source": [
    "# window and fft\n",
    "\n",
    "# start_window = phenom.planck_taper( t['lal'], 0., 0. + 1. )\n",
    "# end_window = 1. - phenom.planck_taper( t['lal'], 3.65, 3.65 + 0.5 )\n",
    "start_window = phenom.planck_taper( t['lal'], 0., 0. + 4.5 )\n",
    "# end_window = 1. - phenom.planck_taper( t['lal'], 7.65, 7.65 + 0.5 )\n",
    "end_window = 1. - phenom.planck_taper( t['lal'], 37.65, 37.65 + 0.5 )"
   ]
  },
  {
   "cell_type": "code",
   "execution_count": 303,
   "metadata": {
    "collapsed": false
   },
   "outputs": [
    {
     "data": {
      "text/plain": [
       "[<matplotlib.lines.Line2D at 0x11d206a90>]"
      ]
     },
     "execution_count": 303,
     "metadata": {},
     "output_type": "execute_result"
    },
    {
     "data": {
      "image/png": "[encoded data removed]",
      "text/plain": [
       "<matplotlib.figure.Figure at 0x11d3cf710>"
      ]
     },
     "metadata": {},
     "output_type": "display_data"
    }
   ],
   "source": [
    "plt.figure()\n",
    "plt.plot( t['lal'] , np.real( hp['lal'] ) )\n",
    "plt.plot( t['lal'] , np.real( hp['lal'] ) * start_window * end_window)"
   ]
  },
  {
   "cell_type": "code",
   "execution_count": 332,
   "metadata": {
    "collapsed": false
   },
   "outputs": [
    {
     "data": {
      "text/plain": [
       "array([ 0.,  0.,  0.,  0.,  0.,  0.,  1.,  2.,  3.,  4.,  5.,  0.,  0.,\n",
       "        0.,  0.,  0.])"
      ]
     },
     "execution_count": 332,
     "metadata": {},
     "output_type": "execute_result"
    }
   ],
   "source": [
    "phenom.pad_to_pow_2(np.asarray([1,2,3,4,5]),1)"
   ]
  },
  {
   "cell_type": "code",
   "execution_count": 334,
   "metadata": {
    "collapsed": false
   },
   "outputs": [
    {
     "data": {
      "text/plain": [
       "array([ 0.,  0.,  0., ...,  0.,  0.,  0.])"
      ]
     },
     "execution_count": 334,
     "metadata": {},
     "output_type": "execute_result"
    }
   ],
   "source": [
    "phenom.pad_to_pow_2(hp['lal'],0)"
   ]
  },
  {
   "cell_type": "code",
   "execution_count": null,
   "metadata": {
    "collapsed": true
   },
   "outputs": [],
   "source": []
  },
  {
   "cell_type": "code",
   "execution_count": 322,
   "metadata": {
    "collapsed": false
   },
   "outputs": [],
   "source": [
    "#compute fft\n",
    "f['my'], hptilde['my'] = fft.fft( t['lal'], hp['lal'] * start_window * end_window)"
   ]
  },
  {
   "cell_type": "code",
   "execution_count": 323,
   "metadata": {
    "collapsed": false
   },
   "outputs": [
    {
     "data": {
      "text/plain": [
       "(38126,)"
      ]
     },
     "execution_count": 323,
     "metadata": {},
     "output_type": "execute_result"
    }
   ],
   "source": [
    "f['my'].shape"
   ]
  },
  {
   "cell_type": "code",
   "execution_count": 324,
   "metadata": {
    "collapsed": false
   },
   "outputs": [
    {
     "data": {
      "text/plain": [
       "19064"
      ]
     },
     "execution_count": 324,
     "metadata": {},
     "output_type": "execute_result"
    }
   ],
   "source": [
    "int(np.floor(len(f['my'])/2. + 1))"
   ]
  },
  {
   "cell_type": "code",
   "execution_count": 325,
   "metadata": {
    "collapsed": false
   },
   "outputs": [
    {
     "data": {
      "text/plain": [
       "(19063,)"
      ]
     },
     "execution_count": 325,
     "metadata": {},
     "output_type": "execute_result"
    }
   ],
   "source": [
    "f['my'][f['my']>=0].shape"
   ]
  },
  {
   "cell_type": "code",
   "execution_count": 326,
   "metadata": {
    "collapsed": false
   },
   "outputs": [
    {
     "data": {
      "image/png": "[encoded data removed]",
      "text/plain": [
       "<matplotlib.figure.Figure at 0x11a530b50>"
      ]
     },
     "metadata": {},
     "output_type": "display_data"
    }
   ],
   "source": [
    "mask = f['my'] > 0\n",
    "plt.figure()\n",
    "plt.plot( f['my'][mask], np.abs( hptilde['my'][mask] ) )\n",
    "plt.xscale('log')\n",
    "plt.yscale('log')"
   ]
  },
  {
   "cell_type": "code",
   "execution_count": 327,
   "metadata": {
    "collapsed": true
   },
   "outputs": [],
   "source": [
    "# now windown and compute the ifft to compare to lal time domain"
   ]
  },
  {
   "cell_type": "code",
   "execution_count": 238,
   "metadata": {
    "collapsed": true
   },
   "outputs": [],
   "source": [
    "# start_window = phenom.planck_taper( f['my'][mask], 10., 10. + 1. )\n",
    "start_window = phenom.planck_taper( f['my'][mask], 5., 5. + 1. )\n",
    "end_window = 1. - phenom.planck_taper( f['my'][mask], 300., 300. + 1. )"
   ]
  },
  {
   "cell_type": "code",
   "execution_count": 239,
   "metadata": {
    "collapsed": false
   },
   "outputs": [
    {
     "data": {
      "image/png": "[encoded data removed]",
      "text/plain": [
       "<matplotlib.figure.Figure at 0x119c60990>"
      ]
     },
     "metadata": {},
     "output_type": "display_data"
    }
   ],
   "source": [
    "mask = f['my'] > 0\n",
    "plt.figure()\n",
    "plt.plot( f['my'][mask], np.abs( hptilde['my'][mask] ) )\n",
    "plt.plot( f['my'][mask], np.abs( hptilde['my'][mask] ) * start_window * end_window )\n",
    "plt.xscale('log')\n",
    "plt.yscale('log')"
   ]
  },
  {
   "cell_type": "code",
   "execution_count": 240,
   "metadata": {
    "collapsed": false
   },
   "outputs": [
    {
     "name": "stdout",
     "output_type": "stream",
     "text": [
      "0.0268583119131\n"
     ]
    }
   ],
   "source": [
    "print(f['my'][mask][0])"
   ]
  },
  {
   "cell_type": "code",
   "execution_count": 243,
   "metadata": {
    "collapsed": false
   },
   "outputs": [],
   "source": [
    "t['my'], hp['my'] = fft.myifft( f['my'],\n",
    "                               hptilde['my'] * np.exp( -1.j * 2. * np.pi * f['my'] * 3.*np.pi),\n",
    "                               f['my'][mask][0], 1. )"
   ]
  },
  {
   "cell_type": "code",
   "execution_count": 246,
   "metadata": {
    "collapsed": false
   },
   "outputs": [
    {
     "data": {
      "text/plain": [
       "<matplotlib.legend.Legend at 0x11a185ad0>"
      ]
     },
     "execution_count": 246,
     "metadata": {},
     "output_type": "execute_result"
    },
    {
     "data": {
      "image/png": "[encoded data removed]",
      "text/plain": [
       "<matplotlib.figure.Figure at 0x11a4a92d0>"
      ]
     },
     "metadata": {},
     "output_type": "display_data"
    }
   ],
   "source": [
    "# %matplotlib notebook\n",
    "# %matplotlib inline\n",
    "plt.figure()\n",
    "plt.plot( t['lal'] - t['lal'][peakindex(hp['lal'])], np.real( hp['lal'] ), label='lal' )\n",
    "plt.plot( t['my']  - t['my'][peakindex(hp['my'])]  , np.real( hp['my']  ), label='my')\n",
    "plt.legend(loc='best')\n",
    "# plt.xlim(-0.1,0.1)"
   ]
  },
  {
   "cell_type": "markdown",
   "metadata": {},
   "source": [
    "### def ifft2"
   ]
  },
  {
   "cell_type": "code",
   "execution_count": 248,
   "metadata": {
    "collapsed": true
   },
   "outputs": [],
   "source": [
    "def ifft2(f, htilde):\n",
    "\n",
    "    N = len(f)\n",
    "\n",
    "    df = f[1] - f[0]\n",
    "    dt = 1.0 / ( df * N )\n",
    "\n",
    "    # I am not sure what the factor of two is here...\n",
    "    # FIXME: Is this factor of 2 correct or should it be somewhere else?\n",
    "    h = 2 * fft.ifft(htilde) / dt\n",
    "    maxTime = dt * N\n",
    "    # print(\"highest time (maxTime) = {0}\".format(maxTime))\n",
    "    # print(\"dt = {0}\".format(dt))\n",
    "    t = np.arange( 0., maxTime, dt )\n",
    "\n",
    "    return t, h"
   ]
  },
  {
   "cell_type": "code",
   "execution_count": 260,
   "metadata": {
    "collapsed": true
   },
   "outputs": [],
   "source": [
    "# start_window_ifft = phenom.planck_taper( f['my'][mask], 10., 10. + 5. )\n",
    "start_window_ifft = phenom.planck_taper( f['my'][mask], 1., 1. + 5. )\n",
    "# end_window_ifft = 1. - phenom.planck_taper( f['my'][mask], 300., 300. + 100. )"
   ]
  },
  {
   "cell_type": "code",
   "execution_count": 269,
   "metadata": {
    "collapsed": false
   },
   "outputs": [],
   "source": [
    "# hptilde_toifft = hptilde['my'][mask] * start_window_ifft * end_window_ifft\n",
    "hptilde_toifft = hptilde['my'][mask] * start_window_ifft\n",
    "# hptilde_toifft = phenom.pad_to_pow_2(hptilde_toifft, 2)\n",
    "# hptilde_toifft = hptilde['my']"
   ]
  },
  {
   "cell_type": "code",
   "execution_count": 279,
   "metadata": {
    "collapsed": false
   },
   "outputs": [],
   "source": [
    "t['ifft2'], hp['ifft2'] = ifft2( f['my'][mask],\n",
    "                          hptilde_toifft)\n",
    "\n",
    "# t['ifft2'], hp['ifft2'] = ifft2( phenom.pad_to_pow_2(f['my'][mask],0),\n",
    "#                           phenom.pad_to_pow_2(hptilde_toifft,0))"
   ]
  },
  {
   "cell_type": "code",
   "execution_count": 280,
   "metadata": {
    "collapsed": false
   },
   "outputs": [
    {
     "data": {
      "text/plain": [
       "(-0.1, 0.1)"
      ]
     },
     "execution_count": 280,
     "metadata": {},
     "output_type": "execute_result"
    },
    {
     "data": {
      "image/png": "[encoded data removed]",
      "text/plain": [
       "<matplotlib.figure.Figure at 0x11d3492d0>"
      ]
     },
     "metadata": {},
     "output_type": "display_data"
    }
   ],
   "source": [
    "# %matplotlib notebook\n",
    "# %matplotlib inline\n",
    "plt.figure()\n",
    "plt.plot( t['ifft2'] - t['ifft2'][peakindex(hp['ifft2'])], np.real( hp['ifft2'] ))\n",
    "plt.legend(loc='best')\n",
    "plt.xlim(-0.1,0.1)"
   ]
  },
  {
   "cell_type": "code",
   "execution_count": null,
   "metadata": {
    "collapsed": true
   },
   "outputs": [],
   "source": []
  }
 ],
 "metadata": {
  "kernelspec": {
   "display_name": "Python 2",
   "language": "python",
   "name": "python2"
  },
  "language_info": {
   "codemirror_mode": {
    "name": "ipython",
    "version": 2
   },
   "file_extension": ".py",
   "mimetype": "text/x-python",
   "name": "python",
   "nbconvert_exporter": "python",
   "pygments_lexer": "ipython2",
   "version": "2.7.6"
  },
  "toc": {
   "toc_cell": true,
   "toc_number_sections": true,
   "toc_threshold": 6,
   "toc_window_display": false
  }
 },
 "nbformat": 4,
 "nbformat_minor": 0
}
