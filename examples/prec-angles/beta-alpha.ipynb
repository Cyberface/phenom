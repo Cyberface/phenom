{
 "cells": [
  {
   "cell_type": "markdown",
   "metadata": {
    "toc": "true"
   },
   "source": [
    "# Table of Contents\n",
    " <p>"
   ]
  },
  {
   "cell_type": "code",
   "execution_count": 9,
   "metadata": {
    "ExecuteTime": {
     "end_time": "2018-07-23T17:02:20.247794Z",
     "start_time": "2018-07-23T17:02:20.117039Z"
    }
   },
   "outputs": [],
   "source": [
    "%matplotlib inline\n",
    "import matplotlib.pyplot as plt"
   ]
  },
  {
   "cell_type": "code",
   "execution_count": 10,
   "metadata": {
    "ExecuteTime": {
     "end_time": "2018-07-23T17:02:20.545080Z",
     "start_time": "2018-07-23T17:02:20.540414Z"
    }
   },
   "outputs": [],
   "source": [
    "import numpy as np"
   ]
  },
  {
   "cell_type": "code",
   "execution_count": 11,
   "metadata": {
    "ExecuteTime": {
     "end_time": "2018-07-23T17:02:20.688961Z",
     "start_time": "2018-07-23T17:02:20.684377Z"
    }
   },
   "outputs": [],
   "source": [
    "import phenom"
   ]
  },
  {
   "cell_type": "code",
   "execution_count": 12,
   "metadata": {
    "ExecuteTime": {
     "end_time": "2018-07-23T17:02:21.006358Z",
     "start_time": "2018-07-23T17:02:20.997515Z"
    }
   },
   "outputs": [
    {
     "data": {
      "text/plain": [
       "0.30761024535122006"
      ]
     },
     "execution_count": 12,
     "metadata": {},
     "output_type": "execute_result"
    }
   ],
   "source": [
    "phenom.PhenomPBeta(0.1,1.,1.,0.)"
   ]
  },
  {
   "cell_type": "code",
   "execution_count": 52,
   "metadata": {
    "ExecuteTime": {
     "end_time": "2018-07-23T17:11:49.170265Z",
     "start_time": "2018-07-23T17:11:49.165219Z"
    }
   },
   "outputs": [],
   "source": [
    "npts=1000\n",
    "f_gw_min=10\n",
    "f_gw_max=1000"
   ]
  },
  {
   "cell_type": "code",
   "execution_count": 53,
   "metadata": {
    "ExecuteTime": {
     "end_time": "2018-07-23T17:11:49.470647Z",
     "start_time": "2018-07-23T17:11:49.467119Z"
    }
   },
   "outputs": [],
   "source": [
    "#GW frequency\n",
    "f_gw = np.linspace(f_gw_min, f_gw_max, npts)"
   ]
  },
  {
   "cell_type": "code",
   "execution_count": 54,
   "metadata": {
    "ExecuteTime": {
     "end_time": "2018-07-23T17:11:49.607403Z",
     "start_time": "2018-07-23T17:11:49.603056Z"
    }
   },
   "outputs": [],
   "source": [
    "# convert to orbital frequency\n",
    "f_orb = f_gw / 2."
   ]
  },
  {
   "cell_type": "code",
   "execution_count": 55,
   "metadata": {
    "ExecuteTime": {
     "end_time": "2018-07-23T17:11:49.762070Z",
     "start_time": "2018-07-23T17:11:49.756372Z"
    }
   },
   "outputs": [],
   "source": [
    "m1=10.\n",
    "m2=5.\n",
    "q=m1/m2\n",
    "chi1x=0.5\n",
    "chi1z=0."
   ]
  },
  {
   "cell_type": "code",
   "execution_count": 56,
   "metadata": {
    "ExecuteTime": {
     "end_time": "2018-07-23T17:11:49.919838Z",
     "start_time": "2018-07-23T17:11:49.915325Z"
    }
   },
   "outputs": [],
   "source": [
    "#phenom angle functions assume the frequency given is the orbital angular frequency\n",
    "Momega = 2. * np.pi * phenom.HztoMf(f_orb, (m1 + m2))"
   ]
  },
  {
   "cell_type": "code",
   "execution_count": 61,
   "metadata": {
    "ExecuteTime": {
     "end_time": "2018-07-23T17:12:47.135718Z",
     "start_time": "2018-07-23T17:12:47.129978Z"
    }
   },
   "outputs": [],
   "source": [
    "beta = phenom.PhenomPBeta(Momega, q, chi1x, chi1z)\n",
    "alpha = phenom.PhenomPAlpha(Momega, q, chi1x, chi1z)"
   ]
  },
  {
   "cell_type": "code",
   "execution_count": 62,
   "metadata": {
    "ExecuteTime": {
     "end_time": "2018-07-23T17:12:49.286984Z",
     "start_time": "2018-07-23T17:12:48.994622Z"
    }
   },
   "outputs": [
    {
     "data": {
      "image/png": "[encoded data removed]",
      "text/plain": [
       "<Figure size 432x288 with 1 Axes>"
      ]
     },
     "metadata": {},
     "output_type": "display_data"
    }
   ],
   "source": [
    "#plot as a function of GW frequency\n",
    "plt.figure()\n",
    "plt.plot(f_gw, beta)\n",
    "# plt.yscale('log')\n",
    "plt.xscale('log')"
   ]
  },
  {
   "cell_type": "code",
   "execution_count": null,
   "metadata": {},
   "outputs": [],
   "source": []
  },
  {
   "cell_type": "code",
   "execution_count": 63,
   "metadata": {
    "ExecuteTime": {
     "end_time": "2018-07-23T17:12:53.853937Z",
     "start_time": "2018-07-23T17:12:53.586561Z"
    }
   },
   "outputs": [
    {
     "data": {
      "image/png": "[encoded data removed]",
      "text/plain": [
       "<Figure size 432x288 with 1 Axes>"
      ]
     },
     "metadata": {},
     "output_type": "display_data"
    }
   ],
   "source": [
    "#plot as a function of GW frequency\n",
    "plt.figure()\n",
    "plt.plot(f_gw, alpha)\n",
    "# plt.yscale('log')\n",
    "plt.xscale('log')"
   ]
  },
  {
   "cell_type": "code",
   "execution_count": 64,
   "metadata": {
    "ExecuteTime": {
     "end_time": "2018-07-23T17:12:54.999838Z",
     "start_time": "2018-07-23T17:12:54.994851Z"
    }
   },
   "outputs": [],
   "source": [
    "def number_of_prec_cycles(alpha):\n",
    "    return (alpha[-1] - alpha[0])/(2*np.pi)"
   ]
  },
  {
   "cell_type": "code",
   "execution_count": 65,
   "metadata": {
    "ExecuteTime": {
     "end_time": "2018-07-23T17:12:58.243042Z",
     "start_time": "2018-07-23T17:12:58.234346Z"
    }
   },
   "outputs": [
    {
     "data": {
      "text/plain": [
       "10.514614340900874"
      ]
     },
     "execution_count": 65,
     "metadata": {},
     "output_type": "execute_result"
    }
   ],
   "source": [
    "number_of_prec_cycles(alpha)"
   ]
  },
  {
   "cell_type": "code",
   "execution_count": null,
   "metadata": {},
   "outputs": [],
   "source": []
  }
 ],
 "metadata": {
  "kernelspec": {
   "display_name": "Python 2",
   "language": "python",
   "name": "python2"
  },
  "language_info": {
   "codemirror_mode": {
    "name": "ipython",
    "version": 2
   },
   "file_extension": ".py",
   "mimetype": "text/x-python",
   "name": "python",
   "nbconvert_exporter": "python",
   "pygments_lexer": "ipython2",
   "version": "2.7.14"
  },
  "toc": {
   "nav_menu": {
    "height": "12px",
    "width": "252px"
   },
   "navigate_menu": true,
   "number_sections": true,
   "sideBar": false,
   "threshold": 4,
   "toc_cell": true,
   "toc_section_display": "block",
   "toc_window_display": false
  }
 },
 "nbformat": 4,
 "nbformat_minor": 2
}
